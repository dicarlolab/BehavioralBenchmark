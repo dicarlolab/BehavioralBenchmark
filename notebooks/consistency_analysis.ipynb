{
 "worksheets": [
  {
   "cells": [
    {
     "cell_type": "code",
     "metadata": {},
     "outputs": [
      {
       "output_type": "stream",
       "stream": "stdout",
       "text": [
        "common attributes, forcing a renaming ...\n",
        "Using default renamer ...\n",
        "('Replacing columns', ['rxz', 'rxy', 'ryz'])"
       ]
      },
      {
       "output_type": "stream",
       "stream": "stdout",
       "text": [
        "\n"
       ]
      }
     ],
     "input": [
      "import scipy.stats as ss\n",
      "import dldata.stimulus_sets.hvm as hvm\n",
      "import pymongo as pm\n",
      "import dldata.human_data.confusion_matrices as CM\n",
      "import tabular as tb\n",
      "import os\n",
      "dataset = hvm.HvMWithDiscfade()\n",
      "dataset = dataset\n",
      "meta = dataset.meta\n",
      "path = os.path.expanduser(\"~/BehavioralBenchmark/results/\")"
     ],
     "language": "python",
     "prompt_number": 100
    },
    {
     "cell_type": "markdown",
     "metadata": {},
     "source": [
      "Grab model results from saved CSV file for 100ms\n",
      "--------------------"
     ]
    },
    {
     "cell_type": "code",
     "metadata": {},
     "outputs": [
      {
       "output_type": "stream",
       "stream": "stdout",
       "text": [
        "/mindhive/dicarlolab/u/toosi/BehavioralBenchmark/results/XCt_128Images_100msbinroll[-100, 0].csv\n",
        "Inferring delimiter to be ','"
       ]
      },
      {
       "output_type": "stream",
       "stream": "stdout",
       "text": [
        "\n",
        "Setting metadata attribute from dialect delimiter to equal specified value: ','\n",
        "Inferring names from the last header line (line 1 ).\n",
        "Inferring delimiter to be ','"
       ]
      },
      {
       "output_type": "stream",
       "stream": "stdout",
       "text": [
        "\n",
        "Setting metadata attribute from dialect delimiter to equal specified value: ','\n",
        "Inferring names from the last header line (line 1 ).\n",
        "/mindhive/dicarlolab/u/toosi/BehavioralBenchmark/results/XCt_128Images_100msbinroll[-90, 10].csv"
       ]
      },
      {
       "output_type": "stream",
       "stream": "stdout",
       "text": [
        "\n",
        "Inferring delimiter to be ','"
       ]
      },
      {
       "output_type": "stream",
       "stream": "stdout",
       "text": [
        "\n",
        "Setting metadata attribute from dialect delimiter to equal specified value: ','\n",
        "Inferring names from the last header line (line 1 ).\n",
        "Inferring delimiter to be ','"
       ]
      },
      {
       "output_type": "stream",
       "stream": "stdout",
       "text": [
        "\n",
        "Setting metadata attribute from dialect delimiter to equal specified value: ','\n",
        "Inferring names from the last header line (line 1 ).\n",
        "/mindhive/dicarlolab/u/toosi/BehavioralBenchmark/results/XCt_128Images_100msbinroll[-80, 20].csv"
       ]
      },
      {
       "output_type": "stream",
       "stream": "stdout",
       "text": [
        "\n",
        "Inferring delimiter to be ','"
       ]
      },
      {
       "output_type": "stream",
       "stream": "stdout",
       "text": [
        "\n",
        "Setting metadata attribute from dialect delimiter to equal specified value: ','\n",
        "Inferring names from the last header line (line 1 ).\n",
        "Inferring delimiter to be ','"
       ]
      },
      {
       "output_type": "stream",
       "stream": "stdout",
       "text": [
        "\n",
        "Setting metadata attribute from dialect delimiter to equal specified value: ','\n",
        "Inferring names from the last header line (line 1 ).\n",
        "/mindhive/dicarlolab/u/toosi/BehavioralBenchmark/results/XCt_128Images_100msbinroll[-70, 30].csv"
       ]
      },
      {
       "output_type": "stream",
       "stream": "stdout",
       "text": [
        "\n",
        "Inferring delimiter to be ','"
       ]
      },
      {
       "output_type": "stream",
       "stream": "stdout",
       "text": [
        "\n",
        "Setting metadata attribute from dialect delimiter to equal specified value: ','\n",
        "Inferring names from the last header line (line 1 ).\n",
        "Inferring delimiter to be ','"
       ]
      },
      {
       "output_type": "stream",
       "stream": "stdout",
       "text": [
        "\n",
        "Setting metadata attribute from dialect delimiter to equal specified value: ','\n",
        "Inferring names from the last header line (line 1 ).\n",
        "/mindhive/dicarlolab/u/toosi/BehavioralBenchmark/results/XCt_128Images_100msbinroll[-60, 40].csv"
       ]
      },
      {
       "output_type": "stream",
       "stream": "stdout",
       "text": [
        "\n",
        "Inferring delimiter to be ','"
       ]
      },
      {
       "output_type": "stream",
       "stream": "stdout",
       "text": [
        "\n",
        "Setting metadata attribute from dialect delimiter to equal specified value: ','\n",
        "Inferring names from the last header line (line 1 ).\n",
        "Inferring delimiter to be ','"
       ]
      },
      {
       "output_type": "stream",
       "stream": "stdout",
       "text": [
        "\n",
        "Setting metadata attribute from dialect delimiter to equal specified value: ','\n",
        "Inferring names from the last header line (line 1 ).\n",
        "/mindhive/dicarlolab/u/toosi/BehavioralBenchmark/results/XCt_128Images_100msbinroll[-50, 50].csv"
       ]
      },
      {
       "output_type": "stream",
       "stream": "stdout",
       "text": [
        "\n",
        "Inferring delimiter to be ','"
       ]
      },
      {
       "output_type": "stream",
       "stream": "stdout",
       "text": [
        "\n",
        "Setting metadata attribute from dialect delimiter to equal specified value: ','\n",
        "Inferring names from the last header line (line 1 ).\n",
        "Inferring delimiter to be ','"
       ]
      },
      {
       "output_type": "stream",
       "stream": "stdout",
       "text": [
        "\n",
        "Setting metadata attribute from dialect delimiter to equal specified value: ','\n",
        "Inferring names from the last header line (line 1 ).\n",
        "/mindhive/dicarlolab/u/toosi/BehavioralBenchmark/results/XCt_128Images_100msbinroll[-40, 60].csv"
       ]
      },
      {
       "output_type": "stream",
       "stream": "stdout",
       "text": [
        "\n",
        "Inferring delimiter to be ','"
       ]
      },
      {
       "output_type": "stream",
       "stream": "stdout",
       "text": [
        "\n",
        "Setting metadata attribute from dialect delimiter to equal specified value: ','\n",
        "Inferring names from the last header line (line 1 ).\n",
        "Inferring delimiter to be ','"
       ]
      },
      {
       "output_type": "stream",
       "stream": "stdout",
       "text": [
        "\n",
        "Setting metadata attribute from dialect delimiter to equal specified value: ','\n",
        "Inferring names from the last header line (line 1 ).\n",
        "/mindhive/dicarlolab/u/toosi/BehavioralBenchmark/results/XCt_128Images_100msbinroll[-30, 70].csv"
       ]
      },
      {
       "output_type": "stream",
       "stream": "stdout",
       "text": [
        "\n",
        "Inferring delimiter to be ','"
       ]
      },
      {
       "output_type": "stream",
       "stream": "stdout",
       "text": [
        "\n",
        "Setting metadata attribute from dialect delimiter to equal specified value: ','\n",
        "Inferring names from the last header line (line 1 ).\n",
        "Inferring delimiter to be ','"
       ]
      },
      {
       "output_type": "stream",
       "stream": "stdout",
       "text": [
        "\n",
        "Setting metadata attribute from dialect delimiter to equal specified value: ','\n",
        "Inferring names from the last header line (line 1 ).\n",
        "/mindhive/dicarlolab/u/toosi/BehavioralBenchmark/results/XCt_128Images_100msbinroll[-20, 80].csv"
       ]
      },
      {
       "output_type": "stream",
       "stream": "stdout",
       "text": [
        "\n",
        "Inferring delimiter to be ','"
       ]
      },
      {
       "output_type": "stream",
       "stream": "stdout",
       "text": [
        "\n",
        "Setting metadata attribute from dialect delimiter to equal specified value: ','\n",
        "Inferring names from the last header line (line 1 ).\n",
        "Inferring delimiter to be ','"
       ]
      },
      {
       "output_type": "stream",
       "stream": "stdout",
       "text": [
        "\n",
        "Setting metadata attribute from dialect delimiter to equal specified value: ','\n",
        "Inferring names from the last header line (line 1 ).\n",
        "/mindhive/dicarlolab/u/toosi/BehavioralBenchmark/results/XCt_128Images_100msbinroll[-10, 90].csv"
       ]
      },
      {
       "output_type": "stream",
       "stream": "stdout",
       "text": [
        "\n",
        "Inferring delimiter to be ','"
       ]
      },
      {
       "output_type": "stream",
       "stream": "stdout",
       "text": [
        "\n",
        "Setting metadata attribute from dialect delimiter to equal specified value: ','\n",
        "Inferring names from the last header line (line 1 ).\n",
        "Inferring delimiter to be ','"
       ]
      },
      {
       "output_type": "stream",
       "stream": "stdout",
       "text": [
        "\n",
        "Setting metadata attribute from dialect delimiter to equal specified value: ','\n",
        "Inferring names from the last header line (line 1 ).\n",
        "/mindhive/dicarlolab/u/toosi/BehavioralBenchmark/results/XCt_128Images_100msbinroll[0, 100].csv"
       ]
      },
      {
       "output_type": "stream",
       "stream": "stdout",
       "text": [
        "\n",
        "Inferring delimiter to be ','"
       ]
      },
      {
       "output_type": "stream",
       "stream": "stdout",
       "text": [
        "\n",
        "Setting metadata attribute from dialect delimiter to equal specified value: ','\n",
        "Inferring names from the last header line (line 1 ).\n",
        "Inferring delimiter to be ','"
       ]
      },
      {
       "output_type": "stream",
       "stream": "stdout",
       "text": [
        "\n",
        "Setting metadata attribute from dialect delimiter to equal specified value: ','\n",
        "Inferring names from the last header line (line 1 ).\n",
        "/mindhive/dicarlolab/u/toosi/BehavioralBenchmark/results/XCt_128Images_100msbinroll[10, 110].csv"
       ]
      },
      {
       "output_type": "stream",
       "stream": "stdout",
       "text": [
        "\n",
        "Inferring delimiter to be ','"
       ]
      },
      {
       "output_type": "stream",
       "stream": "stdout",
       "text": [
        "\n",
        "Setting metadata attribute from dialect delimiter to equal specified value: ','\n",
        "Inferring names from the last header line (line 1 ).\n",
        "Inferring delimiter to be ','"
       ]
      },
      {
       "output_type": "stream",
       "stream": "stdout",
       "text": [
        "\n",
        "Setting metadata attribute from dialect delimiter to equal specified value: ','\n",
        "Inferring names from the last header line (line 1 ).\n",
        "/mindhive/dicarlolab/u/toosi/BehavioralBenchmark/results/XCt_128Images_100msbinroll[20, 120].csv"
       ]
      },
      {
       "output_type": "stream",
       "stream": "stdout",
       "text": [
        "\n",
        "Inferring delimiter to be ','"
       ]
      },
      {
       "output_type": "stream",
       "stream": "stdout",
       "text": [
        "\n",
        "Setting metadata attribute from dialect delimiter to equal specified value: ','\n",
        "Inferring names from the last header line (line 1 ).\n",
        "Inferring delimiter to be ','"
       ]
      },
      {
       "output_type": "stream",
       "stream": "stdout",
       "text": [
        "\n",
        "Setting metadata attribute from dialect delimiter to equal specified value: ','\n",
        "Inferring names from the last header line (line 1 ).\n",
        "/mindhive/dicarlolab/u/toosi/BehavioralBenchmark/results/XCt_128Images_100msbinroll[30, 130].csv"
       ]
      },
      {
       "output_type": "stream",
       "stream": "stdout",
       "text": [
        "\n",
        "Inferring delimiter to be ','"
       ]
      },
      {
       "output_type": "stream",
       "stream": "stdout",
       "text": [
        "\n",
        "Setting metadata attribute from dialect delimiter to equal specified value: ','\n",
        "Inferring names from the last header line (line 1 ).\n",
        "Inferring delimiter to be ','"
       ]
      },
      {
       "output_type": "stream",
       "stream": "stdout",
       "text": [
        "\n",
        "Setting metadata attribute from dialect delimiter to equal specified value: ','\n",
        "Inferring names from the last header line (line 1 ).\n",
        "/mindhive/dicarlolab/u/toosi/BehavioralBenchmark/results/XCt_128Images_100msbinroll[40, 140].csv"
       ]
      },
      {
       "output_type": "stream",
       "stream": "stdout",
       "text": [
        "\n",
        "Inferring delimiter to be ','"
       ]
      },
      {
       "output_type": "stream",
       "stream": "stdout",
       "text": [
        "\n",
        "Setting metadata attribute from dialect delimiter to equal specified value: ','\n",
        "Inferring names from the last header line (line 1 ).\n",
        "Inferring delimiter to be ','"
       ]
      },
      {
       "output_type": "stream",
       "stream": "stdout",
       "text": [
        "\n",
        "Setting metadata attribute from dialect delimiter to equal specified value: ','\n",
        "Inferring names from the last header line (line 1 ).\n",
        "/mindhive/dicarlolab/u/toosi/BehavioralBenchmark/results/XCt_128Images_100msbinroll[50, 150].csv"
       ]
      },
      {
       "output_type": "stream",
       "stream": "stdout",
       "text": [
        "\n",
        "Inferring delimiter to be ','"
       ]
      },
      {
       "output_type": "stream",
       "stream": "stdout",
       "text": [
        "\n",
        "Setting metadata attribute from dialect delimiter to equal specified value: ','\n",
        "Inferring names from the last header line (line 1 ).\n",
        "Inferring delimiter to be ','"
       ]
      },
      {
       "output_type": "stream",
       "stream": "stdout",
       "text": [
        "\n",
        "Setting metadata attribute from dialect delimiter to equal specified value: ','\n",
        "Inferring names from the last header line (line 1 ).\n",
        "/mindhive/dicarlolab/u/toosi/BehavioralBenchmark/results/XCt_128Images_100msbinroll[60, 160].csv"
       ]
      },
      {
       "output_type": "stream",
       "stream": "stdout",
       "text": [
        "\n",
        "Inferring delimiter to be ','"
       ]
      },
      {
       "output_type": "stream",
       "stream": "stdout",
       "text": [
        "\n",
        "Setting metadata attribute from dialect delimiter to equal specified value: ','\n",
        "Inferring names from the last header line (line 1 ).\n",
        "Inferring delimiter to be ','"
       ]
      },
      {
       "output_type": "stream",
       "stream": "stdout",
       "text": [
        "\n",
        "Setting metadata attribute from dialect delimiter to equal specified value: ','\n",
        "Inferring names from the last header line (line 1 ).\n",
        "/mindhive/dicarlolab/u/toosi/BehavioralBenchmark/results/XCt_128Images_100msbinroll[70, 170].csv"
       ]
      },
      {
       "output_type": "stream",
       "stream": "stdout",
       "text": [
        "\n",
        "Inferring delimiter to be ','"
       ]
      },
      {
       "output_type": "stream",
       "stream": "stdout",
       "text": [
        "\n",
        "Setting metadata attribute from dialect delimiter to equal specified value: ','\n",
        "Inferring names from the last header line (line 1 ).\n",
        "Inferring delimiter to be ','"
       ]
      },
      {
       "output_type": "stream",
       "stream": "stdout",
       "text": [
        "\n",
        "Setting metadata attribute from dialect delimiter to equal specified value: ','\n",
        "Inferring names from the last header line (line 1 ).\n",
        "/mindhive/dicarlolab/u/toosi/BehavioralBenchmark/results/XCt_128Images_100msbinroll[80, 180].csv"
       ]
      },
      {
       "output_type": "stream",
       "stream": "stdout",
       "text": [
        "\n",
        "Inferring delimiter to be ','"
       ]
      },
      {
       "output_type": "stream",
       "stream": "stdout",
       "text": [
        "\n",
        "Setting metadata attribute from dialect delimiter to equal specified value: ','\n",
        "Inferring names from the last header line (line 1 ).\n",
        "Inferring delimiter to be ','"
       ]
      },
      {
       "output_type": "stream",
       "stream": "stdout",
       "text": [
        "\n",
        "Setting metadata attribute from dialect delimiter to equal specified value: ','\n",
        "Inferring names from the last header line (line 1 ).\n",
        "/mindhive/dicarlolab/u/toosi/BehavioralBenchmark/results/XCt_128Images_100msbinroll[90, 190].csv"
       ]
      },
      {
       "output_type": "stream",
       "stream": "stdout",
       "text": [
        "\n",
        "Inferring delimiter to be ','"
       ]
      },
      {
       "output_type": "stream",
       "stream": "stdout",
       "text": [
        "\n",
        "Setting metadata attribute from dialect delimiter to equal specified value: ','\n",
        "Inferring names from the last header line (line 1 ).\n",
        "Inferring delimiter to be ','"
       ]
      },
      {
       "output_type": "stream",
       "stream": "stdout",
       "text": [
        "\n",
        "Setting metadata attribute from dialect delimiter to equal specified value: ','\n",
        "Inferring names from the last header line (line 1 ).\n",
        "/mindhive/dicarlolab/u/toosi/BehavioralBenchmark/results/XCt_128Images_100msbinroll[100, 200].csv"
       ]
      },
      {
       "output_type": "stream",
       "stream": "stdout",
       "text": [
        "\n",
        "Inferring delimiter to be ','"
       ]
      },
      {
       "output_type": "stream",
       "stream": "stdout",
       "text": [
        "\n",
        "Setting metadata attribute from dialect delimiter to equal specified value: ','\n",
        "Inferring names from the last header line (line 1 ).\n",
        "Inferring delimiter to be ','"
       ]
      },
      {
       "output_type": "stream",
       "stream": "stdout",
       "text": [
        "\n",
        "Setting metadata attribute from dialect delimiter to equal specified value: ','\n",
        "Inferring names from the last header line (line 1 ).\n",
        "/mindhive/dicarlolab/u/toosi/BehavioralBenchmark/results/XCt_128Images_100msbinroll[110, 210].csv"
       ]
      },
      {
       "output_type": "stream",
       "stream": "stdout",
       "text": [
        "\n",
        "Inferring delimiter to be ','"
       ]
      },
      {
       "output_type": "stream",
       "stream": "stdout",
       "text": [
        "\n",
        "Setting metadata attribute from dialect delimiter to equal specified value: ','\n",
        "Inferring names from the last header line (line 1 ).\n",
        "Inferring delimiter to be ','"
       ]
      },
      {
       "output_type": "stream",
       "stream": "stdout",
       "text": [
        "\n",
        "Setting metadata attribute from dialect delimiter to equal specified value: ','\n",
        "Inferring names from the last header line (line 1 ).\n",
        "/mindhive/dicarlolab/u/toosi/BehavioralBenchmark/results/XCt_128Images_100msbinroll[120, 220].csv"
       ]
      },
      {
       "output_type": "stream",
       "stream": "stdout",
       "text": [
        "\n",
        "Inferring delimiter to be ','"
       ]
      },
      {
       "output_type": "stream",
       "stream": "stdout",
       "text": [
        "\n",
        "Setting metadata attribute from dialect delimiter to equal specified value: ','\n",
        "Inferring names from the last header line (line 1 ).\n",
        "Inferring delimiter to be ','"
       ]
      },
      {
       "output_type": "stream",
       "stream": "stdout",
       "text": [
        "\n",
        "Setting metadata attribute from dialect delimiter to equal specified value: ','\n",
        "Inferring names from the last header line (line 1 ).\n",
        "/mindhive/dicarlolab/u/toosi/BehavioralBenchmark/results/XCt_128Images_100msbinroll[130, 230].csv"
       ]
      },
      {
       "output_type": "stream",
       "stream": "stdout",
       "text": [
        "\n",
        "Inferring delimiter to be ','"
       ]
      },
      {
       "output_type": "stream",
       "stream": "stdout",
       "text": [
        "\n",
        "Setting metadata attribute from dialect delimiter to equal specified value: ','\n",
        "Inferring names from the last header line (line 1 ).\n",
        "Inferring delimiter to be ','"
       ]
      },
      {
       "output_type": "stream",
       "stream": "stdout",
       "text": [
        "\n",
        "Setting metadata attribute from dialect delimiter to equal specified value: ','\n",
        "Inferring names from the last header line (line 1 ).\n",
        "/mindhive/dicarlolab/u/toosi/BehavioralBenchmark/results/XCt_128Images_100msbinroll[140, 240].csv"
       ]
      },
      {
       "output_type": "stream",
       "stream": "stdout",
       "text": [
        "\n",
        "Inferring delimiter to be ','"
       ]
      },
      {
       "output_type": "stream",
       "stream": "stdout",
       "text": [
        "\n",
        "Setting metadata attribute from dialect delimiter to equal specified value: ','\n",
        "Inferring names from the last header line (line 1 ).\n",
        "Inferring delimiter to be ','"
       ]
      },
      {
       "output_type": "stream",
       "stream": "stdout",
       "text": [
        "\n",
        "Setting metadata attribute from dialect delimiter to equal specified value: ','\n",
        "Inferring names from the last header line (line 1 ).\n"
       ]
      }
     ],
     "input": [
      "prefix = 'XCt_128Images_100msbinroll['\n",
      "suffix = '].csv'\n",
      "filenames = [f for f in os.listdir(path) if (f.startswith(prefix) and f.endswith(suffix))]\n",
      "TimeBins_100ms = sorted([[int(i) for i in f[len(prefix):][:-len(suffix)].split(', ')] for f in filenames])\n",
      "TimeBinCenters_100ms = [l[0]+50 for l in TimeBins_100ms]\n",
      "\n",
      "n_splits = 1\n",
      "\n",
      "filename_to_id = {}\n",
      "for trial in data:\n",
      "    filename_to_id[trial['filename']] = trial['_id']\n",
      "Images = [filename_to_id[filename] for filename in canonical_order]\n",
      "\n",
      "import os\n",
      "import tabular as tb\n",
      "\n",
      "CMImagL_CT_100ms = np.zeros((len(TimeBins_100ms),len(Images),n_splits))\n",
      "CMImagLCW_CT_100ms = np.zeros((len(TimeBins_100ms),len(Images),n_splits))\n",
      "CMCat_CT_100ms = np.zeros((len(TimeBins_100ms),8,8,n_splits))\n",
      "#Images = unique(XIm['Im_id'])\n",
      "it = 0\n",
      "for time_bin in TimeBins_100ms: \n",
      "    \n",
      "\n",
      "    #os.chdir(\"31_12_2014\")#(\"25_11_2014\")#(\"05_12_2014\")\n",
      "    filename = 'XCt_128Images_100msbinroll%s'%((str(time_bin)))+'.csv'\n",
      "    print path+filename\n",
      "    assert filename in os.listdir(path)\n",
      "    #HvM_SVMR_100Images_100msbinroll#HvM_SVMR_100Images_roll\n",
      "    XCt = tb.tabarray(SVfile  = path+filename) \n",
      "    XCt_100ms = tb.tabarray(SVfile = path+filename) \n",
      "    #XCt.dtype.names\n",
      "    \n",
      "    \n",
      "    imi = 0\n",
      "    for Imid in Images:\n",
      "        for sp in range(int(unique(XCt['n_splits']))):\n",
      "            CMImagL_CT_100ms[it,imi,sp]= XCt[(XCt['Im_id'] == Imid)&(XCt['split']==sp)]['iPrCat'][0]\n",
      "            if (XCt[(XCt['Im_id'] == Imid)&(XCt['split']==sp)]['iPrCat'][0] == \\\n",
      "                XCt[(XCt['Im_id'] == Imid)&(XCt['split']==sp)]['iCategory'][0]):\n",
      "                CMImagLCW_CT_100ms[it,imi,sp]= 1\n",
      "            iCat = XCt[(XCt['Im_id'] == Imid)&(XCt['split']==sp)]['iCategory'][0]\n",
      "            iPrCat = XCt[(XCt['Im_id'] == Imid)&(XCt['split']==sp)]['iPrCat'][0]\n",
      "            CMCat_CT_100ms[it,iCat,iPrCat,sp] = CMCat_CT_100ms[it,iCat,iPrCat,sp] + 1\n",
      "        imi += 1\n",
      "    it +=1"
     ],
     "language": "python",
     "prompt_number": 22
    },
    {
     "cell_type": "markdown",
     "metadata": {},
     "source": [
      "Grab model results from saved CSV file for 20ms\n",
      "---------"
     ]
    },
    {
     "cell_type": "code",
     "metadata": {},
     "outputs": [],
     "input": [
      "prefix = 'XCt_128Images_20msbinroll['\n",
      "suffix = '].csv'\n",
      "filenames = [f for f in os.listdir(path) if (f.startswith(prefix) and f.endswith(suffix))]\n",
      "TimeBins_20ms = sorted([[int(i) for i in f[len(prefix):][:-len(suffix)].split(', ')] for f in filenames])\n",
      "TimeBinCenters_20ms = [l[0]+10 for l in TimeBins_20ms]\n",
      "\n",
      "filename_to_id = {}\n",
      "for trial in data:\n",
      "    filename_to_id[trial['filename']] = trial['_id']\n",
      "Images = [filename_to_id[filename] for filename in canonical_order]\n",
      "\n",
      "import os\n",
      "import tabular as tb\n",
      "\n",
      "n_splits = 1\n",
      "CMImagL_CT_20ms = np.zeros((len(TimeBinCenters_20ms),len(Images),n_splits))\n",
      "CMImagLCW_CT_20ms = np.zeros((len(TimeBinCenters_20ms),len(Images),n_splits))\n",
      "CMCat_CT_20ms = np.zeros((len(TimeBinCenters_20ms),8,8,n_splits))\n",
      "#Images = unique(XIm['Im_id'])\n",
      "\n",
      "for time_bin_index, time_bin in enumerate(TimeBins_20ms): \n",
      "    #os.chdir(\"31_12_2014\")#(\"25_11_2014\")#(\"05_12_2014\")\n",
      "    filename = 'XCt_128Images_20msbinroll%s'%((str(time_bin)))+'.csv'\n",
      "    print path+filename\n",
      "    assert filename in os.listdir(path)\n",
      "    #HvM_SVMR_100Images_100msbinroll#HvM_SVMR_100Images_roll\n",
      "    XCt = tb.tabarray(SVfile = path+filename)\n",
      "    XCt_20ms = tb.tabarray(SVfile = path+filename) \n",
      "    #XCt.dtype.names\n",
      "    \n",
      "    \n",
      "    imi = 0\n",
      "    for image_index, Imid in enumerate(Images):\n",
      "        for split in range(int(unique(XCt['n_splits']))):\n",
      "            CMImagL_CT_20ms[time_bin_index,image_index,split]= XCt[(XCt['Im_id'] == Imid)&(XCt['split']==split)]['iPrCat'][0]\n",
      "            if (XCt[(XCt['Im_id'] == Imid)&(XCt['split']==split)]['iPrCat'][0] == \\\n",
      "                XCt[(XCt['Im_id'] == Imid)&(XCt['split']==split)]['iCategory'][0]):\n",
      "                CMImagLCW_CT_20ms[time_bin_index,image_index,split]= 1\n",
      "            iCat = XCt[(XCt['Im_id'] == Imid)&(XCt['split']==split)]['iCategory'][0]\n",
      "            iPrCat = XCt[(XCt['Im_id'] == Imid)&(XCt['split']==split)]['iPrCat'][0]\n",
      "            #time, shown, predicted, split\n",
      "            CMCat_CT_20ms[time_bin_index,iCat,iPrCat,split] = CMCat_CT_20ms[time_bin_index,iCat,iPrCat,split] + 1"
     ],
     "language": "python",
     "prompt_number": 23
    },
    {
     "cell_type": "code",
     "metadata": {},
     "outputs": [],
     "input": [
      ""
     ],
     "language": "python"
    },
    {
     "cell_type": "raw",
     "metadata": {}
    },
    {
     "cell_type": "code",
     "metadata": {},
     "outputs": [],
     "input": [],
     "language": "python",
     "prompt_number": 186
    },
    {
     "cell_type": "markdown",
     "metadata": {},
     "source": [
      "Get Model results from reps\n",
      "--"
     ]
    },
    {
     "cell_type": "code",
     "metadata": {},
     "outputs": [
      {
       "output_type": "stream",
       "stream": "stdout",
       "text": [
        "Inferring delimiter to be ','\n",
        "Setting metadata attribute from dialect delimiter to equal specified value: ','\n",
        "Inferring names from the last header line (line 1 ).\n"
       ]
      }
     ],
     "input": [
      "Xreps = tb.tabarray(SVfile = path+'XCSRstanReps_v6_128Imagessvm.LinearSVC.csv')\n",
      "\n",
      "#print rep\n",
      "#str(rep_data['Im_id'][0])[2:-1] in Images\n",
      "Reps = np.unique(Xreps['rep_id'])\n",
      "ModelITNoiserim_CW = np.zeros((len(Images),len(Reps)))\n",
      "irep = 0\n",
      "for rep in Reps:\n",
      "    rep_data = Xreps[Xreps['rep_id']==rep]\n",
      "    \n",
      "    imi = 0\n",
      "    for im_id in Images:\n",
      "        ModelITNoiserim_CW[imi,irep] = rep_data[rep_data['Im_id'] == im_id]['Correct']\n",
      "        imi += 1\n",
      "    irep +=1\n",
      "\n",
      "    \n",
      "    "
     ],
     "language": "python",
     "prompt_number": 187
    },
    {
     "cell_type": "code",
     "metadata": {},
     "outputs": [],
     "input": [
      "Modelrep_to_pool = []\n",
      "\n",
      "Model = ModelITNoiserim_CW\n",
      "for irep in range(Model.shape[1]):\n",
      "    #Get first rep non worker pool\n",
      "    non_rep_pool = np.delete(np.squeeze(np.copy(Model)), irep, 1).mean(1)\n",
      "\n",
      "    \n",
      "    rep = Model[:, irep]\n",
      "\n",
      "    \n",
      "    consistencies = metric(rep, non_rep_pool)\n",
      "    \n",
      "    assert len(rep) == 128\n",
      "    \n",
      "    \n",
      "    Modelrep_to_pool.append(consistencies)\n"
     ],
     "language": "python",
     "prompt_number": 196
    },
    {
     "cell_type": "code",
     "metadata": {},
     "outputs": [
      {
       "output_type": "display_data",
       "png": "[encoded data removed]",
       "text": [
        "<matplotlib.figure.Figure at 0x13b9c350>"
       ],
       "metadata": {}
      }
     ],
     "input": [
      "#Plot  unnormalized metric value with noise ceiling for standard time bin\n",
      "\n",
      "standard_time_bin_index = TimeBins_100ms.index([70,170])\n",
      "\n",
      "\n",
      "mean_metric_value = mean(individual_to_pool)\n",
      "modelITp_metric_value = mean(Modelrep_to_pool)\n",
      "error = np.std(individual_to_pool)\n",
      "errorModelITp = std(Modelrep_to_pool)\n",
      "\n",
      "noise_ceiling = np.mean(noise_level)\n",
      "noise_ceiling_error = ss.sem(noise_level)\n",
      "noise_ceiling_low = noise_ceiling-noise_ceiling_error\n",
      "noise_ceiling_high = noise_ceiling+noise_ceiling_error\n",
      "\n",
      "\n",
      "\n",
      "fig,ax = subplots(1,2,figsize = (10, 10))\n",
      "ax[0].bar([.125, 1.125], [mean_metric_value, model_metric_value], yerr=[error, 0], width=.75,ecolor ='k')\n",
      "ax[0].bar([ 1.125], [ modelITp_metric_value], yerr=[errorModelITp], width=.75, color='r',ecolor ='k')\n",
      "def draw_noise_ceiling():\n",
      "    ax[0].axhspan(noise_ceiling_low, noise_ceiling_high, facecolor='gray', alpha=0.5)\n",
      "    ax[0].axhspan(noise_ceiling, noise_ceiling, facecolor='gray')\n",
      "draw_noise_ceiling()\n",
      "ax[0].axis([0,2,0,1])\n",
      "ax[0].set_title('Unnormalized ', fontsize = 18)\n",
      "ax[0].set_ylabel('Correlation to the pool', fontsize = 14)\n",
      "\n",
      "ax[0].set_xticklabels([])\n",
      "ax[0].set_yticklabels(arange(0,1.1,0.2),fontsize=12)\n",
      "\n",
      "ax[0].text(0.125+0.25,0.2,'Human', fontsize = 24, rotation = 'vertical', color = 'white')\n",
      "\n",
      "ax[0].text(1.125+0.25,0.2,'IT+', fontsize = 24, rotation = 'vertical', color = 'white')\n",
      "\n",
      "#Plot normalized metric value\n",
      "\n",
      "mean_metric_value_normalized = mean(normalized)\n",
      "error = np.std(normalized)\n",
      "\n",
      "pool_IC = ss.spearmanr(rep0_pool, rep1_pool)[0]\n",
      "ax[1].bar([.125], [mean_metric_value_normalized], yerr=[error], width=.75, color = 'b',ecolor ='k')\n",
      "ax[1].bar([ 1.125], [modelITp_metric_value/pool_IC], yerr=[errorModelITp], width=.75,  color = 'r',ecolor ='k')\n",
      "ax[1].axis([0,2,0,1])\n",
      "\n",
      "ax[1].set_title('Normalized', fontsize = 18)\n",
      "\n",
      "ax[1].set_xticklabels([])\n",
      "ax[1].set_yticklabels(arange(0,1.1,0.2),fontsize=12)\n",
      "\n",
      "ax[1].text(0.125+0.25,0.2,'Human', fontsize = 24, rotation = 'vertical', color = 'white')\n",
      "\n",
      "ax[1].text(1.125+0.25,0.2,'IT+', fontsize = 24, rotation = 'vertical', color = 'white')\n",
      "\n",
      "\n",
      "os.chdir(\"/mindhive/dicarlolab/u/toosi/projs/Consistency/\")\n",
      "import time\n",
      "date= time.strftime(\"%d_%m_%Y\")   \n",
      "if  (os.path.isdir(\"%s\"%((date))))== False:\n",
      "    os.mkdir(\"%s\"%((date)))\n",
      "os.chdir(\"%s\"%((date)))\n",
      "savefig('RepNoisebar_CorrelationtoPool_NormalizedvsUnnormalized.pdf')\n",
      "os.chdir(\"/mindhive/dicarlolab/u/toosi/projs/Consistency/\")\n"
     ],
     "language": "python",
     "prompt_number": 248
    },
    {
     "cell_type": "code",
     "metadata": {},
     "outputs": [],
     "input": [],
     "language": "python",
     "prompt_number": 193
    },
    {
     "cell_type": "markdown",
     "metadata": {},
     "source": [
      "Grab Data from human data database\n",
      "-------"
     ]
    },
    {
     "cell_type": "code",
     "metadata": {},
     "outputs": [
      {
       "ename": "TypeError",
       "evalue": "object of type 'int' has no len()",
       "output_type": "pyerr",
       "traceback": [
        "\u001b[1;31m---------------------------------------------------------------------------\u001b[0m\n\u001b[1;31mTypeError\u001b[0m                                 Traceback (most recent call last)",
        "\u001b[1;32m<ipython-input-101-c88c38a08668>\u001b[0m in \u001b[0;36m<module>\u001b[1;34m()\u001b[0m\n\u001b[1;32m----> 1\u001b[1;33m \u001b[0mraw_data\u001b[0m \u001b[1;33m=\u001b[0m \u001b[0mCM\u001b[0m\u001b[1;33m.\u001b[0m\u001b[0mget_data\u001b[0m\u001b[1;33m(\u001b[0m\u001b[1;34m'hvm_dense_smp_v6_2rpw'\u001b[0m\u001b[1;33m,\u001b[0m \u001b[0mfield\u001b[0m\u001b[1;33m=\u001b[0m\u001b[1;34m'category'\u001b[0m\u001b[1;33m)\u001b[0m\u001b[1;33m\u001b[0m\u001b[0m\n\u001b[0m\u001b[0;32m      2\u001b[0m \u001b[1;31m#CM.update_collection_stimduration(coll) only need to do it once\u001b[0m\u001b[1;33m\u001b[0m\u001b[1;33m\u001b[0m\u001b[0m\n",
        "\u001b[1;32m/mindhive/dicarlolab/u/toosi/dldata/dldata/human_data/confusion_matrices.pyc\u001b[0m in \u001b[0;36mget_data\u001b[1;34m(collection_name, field, query, trial_data, task_name)\u001b[0m\n\u001b[0;32m     43\u001b[0m         \u001b[0mWorkerId\u001b[0m \u001b[1;33m=\u001b[0m \u001b[0md\u001b[0m\u001b[1;33m[\u001b[0m\u001b[1;34m'WorkerID'\u001b[0m\u001b[1;33m]\u001b[0m\u001b[1;33m\u001b[0m\u001b[0m\n\u001b[0;32m     44\u001b[0m         \u001b[1;32mfor\u001b[0m \u001b[0mtrial_field\u001b[0m \u001b[1;32min\u001b[0m \u001b[0mtrial_data\u001b[0m\u001b[1;33m:\u001b[0m\u001b[1;33m\u001b[0m\u001b[0m\n\u001b[1;32m---> 45\u001b[1;33m             \u001b[1;32massert\u001b[0m \u001b[0mlen\u001b[0m\u001b[1;33m(\u001b[0m\u001b[0md\u001b[0m\u001b[1;33m[\u001b[0m\u001b[0mtrial_field\u001b[0m\u001b[1;33m]\u001b[0m\u001b[1;33m)\u001b[0m \u001b[1;33m==\u001b[0m \u001b[0mlen\u001b[0m\u001b[1;33m(\u001b[0m\u001b[0md\u001b[0m\u001b[1;33m[\u001b[0m\u001b[1;34m'ImgData'\u001b[0m\u001b[1;33m]\u001b[0m\u001b[1;33m)\u001b[0m\u001b[1;33m,\u001b[0m \u001b[1;34m\"%s is a list of the same length as ImgData\"\u001b[0m \u001b[1;33m%\u001b[0m \u001b[0mtrial_field\u001b[0m\u001b[1;33m\u001b[0m\u001b[0m\n\u001b[0m\u001b[0;32m     46\u001b[0m         \u001b[1;32mfor\u001b[0m \u001b[0mi\u001b[0m\u001b[1;33m,\u001b[0m\u001b[1;33m(\u001b[0m\u001b[0mx\u001b[0m\u001b[1;33m,\u001b[0m \u001b[0mr\u001b[0m\u001b[1;33m)\u001b[0m \u001b[1;32min\u001b[0m \u001b[0menumerate\u001b[0m\u001b[1;33m(\u001b[0m\u001b[0mzip\u001b[0m\u001b[1;33m(\u001b[0m\u001b[0mImgData\u001b[0m\u001b[1;33m,\u001b[0m \u001b[0mresp\u001b[0m\u001b[1;33m)\u001b[0m\u001b[1;33m)\u001b[0m\u001b[1;33m:\u001b[0m\u001b[1;33m\u001b[0m\u001b[0m\n\u001b[0;32m     47\u001b[0m             \u001b[0mx\u001b[0m\u001b[1;33m[\u001b[0m\u001b[1;34m'Sample'\u001b[0m\u001b[1;33m]\u001b[0m\u001b[1;33m[\u001b[0m\u001b[1;34m'Response'\u001b[0m\u001b[1;33m]\u001b[0m \u001b[1;33m=\u001b[0m \u001b[0mr\u001b[0m\u001b[1;33m\u001b[0m\u001b[0m\n",
        "\u001b[1;31mTypeError\u001b[0m: object of type 'int' has no len()"
       ]
      }
     ],
     "input": [
      "raw_data = CM.get_data('hvm_dense_smp_v6_2rpw', field='category')\n",
      "#CM.update_collection_stimduration(coll) only need to do it once"
     ],
     "language": "python",
     "prompt_number": 101
    },
    {
     "cell_type": "markdown",
     "metadata": {},
     "source": [
      "Clean up data\n",
      "------"
     ]
    },
    {
     "cell_type": "code",
     "metadata": {},
     "outputs": [],
     "input": [
      "#Add rep number to raw data, then clean\n",
      "which_rep = {}\n",
      "for worker in np.unique(raw_data['WorkerId']):\n",
      "    which_rep[worker] = {}\n",
      "    for filename in np.unique(raw_data['filename']):\n",
      "        which_rep[worker][filename] = 0\n",
      "rep = np.zeros(raw_data['filename'].shape[0])\n",
      "for i, trial in enumerate(raw_data):\n",
      "    filename = trial['filename']\n",
      "    worker = trial['WorkerId']\n",
      "    rep[i] = which_rep[worker][filename]\n",
      "    which_rep[worker][filename] = which_rep[worker][filename]+1\n",
      "raw_data_with_rep = raw_data.addcols([rep], names=['rep'])\n",
      "\n",
      "#Get rid of everything but first two reps, get rid of learning reps (Images of V3 and V0)\n",
      "data = raw_data_with_rep[raw_data_with_rep['rep']<2]\n",
      "data = data[data['var'] == 'V6']"
     ],
     "language": "python",
     "prompt_number": 102
    },
    {
     "cell_type": "markdown",
     "metadata": {},
     "source": [
      "Reformat data\n",
      "----"
     ]
    },
    {
     "cell_type": "code",
     "metadata": {},
     "outputs": [
      {
       "output_type": "stream",
       "stream": "stdout",
       "text": [
        "17\n"
       ]
      }
     ],
     "input": [
      "#Reformat to matrix\n",
      "M = [] #images, reps, worker\n",
      "canonical_order = np.unique(data['filename'])\n",
      "workers = np.unique(data['WorkerId'])\n",
      "n_workers = len(workers)\n",
      "for worker in workers:\n",
      "    worker_data = data[data['WorkerId']==worker]\n",
      "    rep0 = worker_data[worker_data['rep']==0]\n",
      "    rep1 = worker_data[worker_data['rep']==1]\n",
      "    c0 = []\n",
      "    c1 = []\n",
      "    for Imid in canonical_order:\n",
      "        c0.append(rep0[rep0['filename'] == Imid]['correct'])\n",
      "        c1.append(rep1[rep1['filename'] == Imid]['correct'])\n",
      "    X = np.column_stack([np.array(c0), np.array(c1)])\n",
      "    X = np.expand_dims(X,2)\n",
      "    M.append(X)\n",
      "    assert set(np.unique(worker_data['filename'])) == set(canonical_order)\n",
      "M = np.concatenate(M,2)\n",
      "assert M.shape == (128, 2, n_workers)\n",
      "print n_workers"
     ],
     "language": "python",
     "prompt_number": 105
    },
    {
     "cell_type": "markdown",
     "metadata": {},
     "source": [
      "Calculate reliability\n",
      "-------"
     ]
    },
    {
     "cell_type": "code",
     "metadata": {},
     "outputs": [
      {
       "output_type": "pyout",
       "prompt_number": 106,
       "text": [
        "[0.4, 1, 0.5, 1]"
       ],
       "metadata": {}
      },
      {
       "output_type": "display_data",
       "png": "[encoded data removed]",
       "text": [
        "<matplotlib.figure.Figure at 0x604c6d0>"
       ],
       "metadata": {}
      }
     ],
     "input": [
      "worker_ics = np.zeros(M.shape[2])\n",
      "worker_reliability = np.zeros(M.shape[2])\n",
      "for worker in range(M.shape[2]):\n",
      "    #Get ic using spearman\n",
      "    worker_ics[worker] = ss.pearsonr(M[:, 0, worker], M[:, 1, worker])[0]\n",
      "    worker_reliability[worker] = sum(M[:, 0, worker]== M[:, 1, worker])/float(M.shape[0])\n",
      "    scatter(worker_ics, worker_reliability)\n",
      "title('Internal consistency of workers')\n",
      "xlabel('Pearson IC')\n",
      "ylabel('Reliability')\n",
      "#axvspan(.4, .5, facecolor='g', alpha=.5)\n",
      "axis([.4,1,.5,1])\n"
     ],
     "language": "python",
     "prompt_number": 106
    },
    {
     "cell_type": "markdown",
     "metadata": {},
     "source": [
      "Get pool value\n",
      "---"
     ]
    },
    {
     "cell_type": "code",
     "metadata": {},
     "outputs": [
      {
       "output_type": "pyout",
       "prompt_number": 107,
       "text": [
        "<matplotlib.text.Text at 0xadca150>"
       ],
       "metadata": {}
      },
      {
       "output_type": "display_data",
       "png": "[encoded data removed]",
       "text": [
        "<matplotlib.figure.Figure at 0x9b3f410>"
       ],
       "metadata": {}
      }
     ],
     "input": [
      "#def generate_plots(M):\n",
      "\n",
      "\n",
      "\n",
      "pool = np.mean(np.mean(M, 2), 1)\n",
      "plot(sorted(pool))\n",
      "title('Pool image accuracies')\n",
      "ylabel('% correct')\n",
      "xlabel('Image index (sorted by accuracy)')\n",
      "\n"
     ],
     "language": "python",
     "prompt_number": 107
    },
    {
     "cell_type": "markdown",
     "metadata": {},
     "source": [
      "Use pearson metric\n",
      "--"
     ]
    },
    {
     "cell_type": "code",
     "metadata": {},
     "outputs": [],
     "input": [
      "\n",
      "def metric(x,y):\n",
      "    #return sum(np.log(y[x==1])) + sum(np.log(1-y[x==0]))\n",
      "    return ss.pearsonr(x,y)[0]\n",
      "\n"
     ],
     "language": "python",
     "prompt_number": 14
    },
    {
     "cell_type": "code",
     "metadata": {},
     "outputs": [],
     "input": [],
     "language": "python"
    },
    {
     "cell_type": "markdown",
     "metadata": {},
     "source": [
      "#Gap"
     ]
    },
    {
     "cell_type": "code",
     "metadata": {},
     "outputs": [
      {
       "output_type": "pyout",
       "prompt_number": 257,
       "text": [
        "<matplotlib.text.Text at 0x13bf1b10>"
       ],
       "metadata": {}
      },
      {
       "output_type": "display_data",
       "png": "[encoded data removed]",
       "text": [
        "<matplotlib.figure.Figure at 0x1192fd50>"
       ],
       "metadata": {}
      }
     ],
     "input": [
      "#Calculate consistencies\n",
      "\n",
      "individual_to_pool = []\n",
      "individual_to_pool_empirical = []\n",
      "noise_level = []\n",
      "meanindidual_to_meanpool = []\n",
      "for worker in range(M.shape[2]):\n",
      "    #Get first rep non worker pool\n",
      "    rep0_pool = np.delete(np.squeeze(np.copy(M[:,0,:])), worker, 1).mean(1)\n",
      "    #Get second rep non worker pool\n",
      "    rep1_pool = np.delete(np.squeeze(np.copy(M[:,1,:])), worker, 1).mean(1)\n",
      "    \n",
      "    non_worker_pool = (rep0_pool+rep1_pool)/2\n",
      "    rep0_trials = M[:, 0, worker]\n",
      "    rep1_trials = M[:, 1, worker]\n",
      "    meanindividual = (rep0_trials.astype(int)+ rep1_trials.astype(int))/2\n",
      "    \n",
      "    consistencies = [metric(rep0_trials, non_worker_pool), metric(rep1_trials, non_worker_pool)]\n",
      "    consistencies_empirical = [metric(rep0_trials, rep0_pool), metric(rep1_trials, rep1_pool)]\n",
      "    noise_level.append(sqrt(metric(rep0_pool, rep1_pool)*metric(rep0_trials, rep1_trials)))\n",
      "\n",
      "    assert rep0_pool.shape == (128,)\n",
      "    \n",
      "    \n",
      "    meanindidual_to_meanpool.append(metric(meanindividual , non_worker_pool))\n",
      "    individual_to_pool.extend(consistencies)\n",
      "    individual_to_pool_empirical.extend(consistencies_empirical)\n",
      "\n",
      "#rep_consistencies = []\n",
      "#for rep_model in rep_models:\n",
      "#    rep_consistencies = metric(rep_model, pool)\n",
      "    \n",
      "normalized = []\n",
      "for split1, split2, noise in zip(individual_to_pool_empirical[::2], individual_to_pool_empirical[1::2], noise_level):\n",
      "    normalized.append(split1/noise)\n",
      "    normalized.append(split2/noise)\n",
      "\n",
      "\n",
      "fig,ax = subplots(2,1,figsize= [5,10], sharex = True, sharey = True)\n",
      "ax[0].hist(sorted(individual_to_pool), 8)\n",
      "ax[0].axvspan(model_metric_value, model_metric_value, facecolor='g', alpha=.5)\n",
      "ax[0].axis([0,1.1,0,10])\n",
      "ax[0].set_title('Unnormalized correlation to pool')\n",
      "model_metric_value\n",
      "\n",
      "ax[1].hist(normalized)\n",
      "ax[1].set_title('Normalized correlation to pool')\n",
      "\n",
      "\n",
      "\n"
     ],
     "language": "python",
     "prompt_number": 257
    },
    {
     "cell_type": "code",
     "metadata": {},
     "outputs": [
      {
       "output_type": "pyout",
       "prompt_number": 138,
       "text": [
        "<matplotlib.text.Text at 0x11201b50>"
       ],
       "metadata": {}
      },
      {
       "output_type": "display_data",
       "png": "[encoded data removed]",
       "text": [
        "<matplotlib.figure.Figure at 0x5ed17d0>"
       ],
       "metadata": {}
      }
     ],
     "input": [
      "scatter(rep0_trials, rep0_pool)\n",
      "xlabel('individual rep 0')\n",
      "ylabel('Pool rep 0')"
     ],
     "language": "python",
     "prompt_number": 138
    },
    {
     "cell_type": "code",
     "metadata": {},
     "outputs": [
      {
       "output_type": "pyout",
       "prompt_number": 90,
       "text": [
        "17"
       ],
       "metadata": {}
      }
     ],
     "input": [
      "len(noise_level)"
     ],
     "language": "python",
     "prompt_number": 90
    },
    {
     "cell_type": "code",
     "metadata": {},
     "outputs": [],
     "input": [],
     "language": "python",
     "prompt_number": 75
    },
    {
     "cell_type": "code",
     "metadata": {},
     "outputs": [],
     "input": [],
     "language": "python",
     "prompt_number": 74
    },
    {
     "cell_type": "code",
     "metadata": {},
     "outputs": [
      {
       "output_type": "pyout",
       "prompt_number": 109,
       "text": [
        "<matplotlib.text.Text at 0xac4edd0>"
       ],
       "metadata": {}
      },
      {
       "output_type": "display_data",
       "png": "[encoded data removed]",
       "text": [
        "<matplotlib.figure.Figure at 0x13dc8a50>"
       ],
       "metadata": {}
      }
     ],
     "input": [
      "scatter(noise_level,meanindidual_to_meanpool)\n",
      "plot([0.4,0.8],[0.4,0.8], ls ='--')\n",
      "xlabel('noise_level')\n",
      "ylabel('Ind_to_Pool Correlation')"
     ],
     "language": "python",
     "prompt_number": 109
    },
    {
     "cell_type": "code",
     "metadata": {},
     "outputs": [],
     "input": [],
     "language": "python",
     "prompt_number": 136
    },
    {
     "cell_type": "code",
     "metadata": {},
     "outputs": [
      {
       "output_type": "display_data",
       "png": "[encoded data removed]",
       "text": [
        "<matplotlib.figure.Figure at 0x13cab450>"
       ],
       "metadata": {}
      }
     ],
     "input": [
      "fig,ax = subplots(figsize= [8,6])\n",
      "ax.hist(sorted(individual_to_pool), 8, label = 'Unnormalized correlation to pool', alpha=.5)\n",
      "#ax.axvspan(model_metric_value, model_metric_value, facecolor='r', alpha=.5)\n",
      "#ax.plot([model_metric_value,model_metric_value], [0,14], 'r', ls = '--')\n",
      "\n",
      "ax.hist(normalized, label = 'Normalized correlation to pool', alpha=.5)\n",
      "ax.legend()\n",
      "ax.axis([0,1.1,0,15])\n",
      "ax.set_title('Correlation to pool', fontsize = 18)\n",
      "ax.set_xlabel('Pearson correlation', fontsize = 14)\n",
      "ax.set_ylabel('Frequency', fontsize = 14)\n",
      "model_metric_value\n",
      "\n",
      "os.chdir(\"/mindhive/dicarlolab/u/toosi/projs/Consistency/\")\n",
      "import time\n",
      "date= time.strftime(\"%d_%m_%Y\")   \n",
      "if  (os.path.isdir(\"%s\"%((date))))== False:\n",
      "    os.mkdir(\"%s\"%((date)))\n",
      "os.chdir(\"%s\"%((date)))\n",
      "savefig('CorrelationtoPool_NormalizedvsUnnormalized.pdf')\n",
      "os.chdir(\"/mindhive/dicarlolab/u/toosi/projs/Consistency/\")\n"
     ],
     "language": "python",
     "prompt_number": 111
    },
    {
     "cell_type": "code",
     "metadata": {},
     "outputs": [
      {
       "output_type": "display_data",
       "png": "[encoded data removed]",
       "text": [
        "<matplotlib.figure.Figure at 0x11928b90>"
       ],
       "metadata": {}
      }
     ],
     "input": [
      "#Plot  unnormalized metric value with noise ceiling for standard time bin\n",
      "\n",
      "standard_time_bin_index = TimeBins_100ms.index([70,170])\n",
      "\n",
      "Model = CMImagLCW_CT_100ms[standard_time_bin_index,:,0]\n",
      "\n",
      "mean_metric_value = mean(individual_to_pool)\n",
      "model_metric_value = metric(Model, pool)\n",
      "error = np.std(individual_to_pool)\n",
      "\n",
      "noise_ceiling = np.mean(noise_level)\n",
      "noise_ceiling_error = ss.sem(noise_level)\n",
      "noise_ceiling_low = noise_ceiling-noise_ceiling_error\n",
      "noise_ceiling_high = noise_ceiling+noise_ceiling_error\n",
      "\n",
      "\n",
      "\n",
      "fig,ax = subplots(1,2,figsize = (10, 10))\n",
      "ax[0].bar([.125, 1.125], [mean_metric_value, model_metric_value], yerr=[error, 0], width=.75)\n",
      "ax[0].bar([ 1.125], [ model_metric_value], yerr=[0], width=.75, facecolor='r')\n",
      "def draw_noise_ceiling():\n",
      "    ax[0].axhspan(noise_ceiling_low, noise_ceiling_high, facecolor='gray', alpha=0.5)\n",
      "    ax[0].axhspan(noise_ceiling, noise_ceiling, facecolor='gray')\n",
      "draw_noise_ceiling()\n",
      "ax[0].axis([0,2,0,1])\n",
      "ax[0].set_title('Unnormalized ', fontsize = 18)\n",
      "ax[0].set_ylabel('Correlation to the pool', fontsize = 14)\n",
      "\n",
      "ax[0].set_xticklabels([])\n",
      "ax[0].set_yticklabels(arange(0,1.1,0.2),fontsize=12)\n",
      "#Plot normalized metric value\n",
      "\n",
      "mean_metric_value_normalized = mean(normalized)\n",
      "error = np.std(normalized)\n",
      "\n",
      "pool_IC = ss.spearmanr(rep0_pool, rep1_pool)[0]\n",
      "ax[1].bar([.125, 1.125], [mean_metric_value_normalized, model_metric_value/pool_IC], yerr=[error, 0], width=.75)\n",
      "ax[1].bar([ 1.125], [model_metric_value/pool_IC], yerr=[0], width=.75, facecolor='r')\n",
      "ax[1].axis([0,2,0,1])\n",
      "\n",
      "ax[1].set_title('Normalized', fontsize = 18)\n",
      "\n",
      "ax[1].set_xticklabels([])\n",
      "ax[1].set_yticklabels(arange(0,1.1,0.2),fontsize=12)\n",
      "\n",
      "\n",
      "\n",
      "os.chdir(\"/mindhive/dicarlolab/u/toosi/projs/Consistency/\")\n",
      "import time\n",
      "date= time.strftime(\"%d_%m_%Y\")   \n",
      "if  (os.path.isdir(\"%s\"%((date))))== False:\n",
      "    os.mkdir(\"%s\"%((date)))\n",
      "os.chdir(\"%s\"%((date)))\n",
      "savefig('bar_CorrelationtoPool_NormalizedvsUnnormalized.pdf')\n",
      "os.chdir(\"/mindhive/dicarlolab/u/toosi/projs/Consistency/\")\n"
     ],
     "language": "python",
     "prompt_number": 136
    },
    {
     "cell_type": "code",
     "metadata": {},
     "outputs": [],
     "input": [],
     "language": "python",
     "prompt_number": 136
    },
    {
     "cell_type": "code",
     "metadata": {},
     "outputs": [
      {
       "output_type": "pyout",
       "prompt_number": 29,
       "text": [
        "<matplotlib.legend.Legend at 0x5732510>"
       ],
       "metadata": {}
      },
      {
       "output_type": "display_data",
       "png": "[encoded data removed]",
       "text": [
        "<matplotlib.figure.Figure at 0x587b9d0>"
       ],
       "metadata": {}
      }
     ],
     "input": [
      "# Plot unnormalized 20ms and 100ms time bin consistency for all time bins\n",
      "figure(figsize=(10,10))\n",
      "model_consistencies_100ms = [metric(result, pool) for result in CMImagLCW_CT_100ms[:,:,0]]\n",
      "#plot(TimeBinCenters_20ms, model_consistencies_20ms)\n",
      "plot(TimeBinCenters_100ms, model_consistencies_100ms)\n",
      "#legend(['20 ms time bins', '100 ms time bins'], loc='best')\n",
      "draw_noise_ceiling()\n",
      "\n",
      "axhspan(mean_metric_value-np.std(individual_to_pool), mean_metric_value+np.std(individual_to_pool), facecolor='b', alpha=0.5)\n",
      "axhspan(mean_metric_value, mean_metric_value, facecolor='b')\n",
      "axvspan(120,120,facecolor='r')\n",
      "legend(['100 ms time bins', 'Noise ceiling error', 'Noise ceiling', 'Human +- std', 'Human'], loc='best')"
     ],
     "language": "python",
     "prompt_number": 29
    },
    {
     "cell_type": "code",
     "metadata": {},
     "outputs": [],
     "input": [],
     "language": "python"
    },
    {
     "cell_type": "markdown",
     "metadata": {},
     "source": [
      "##NYU"
     ]
    },
    {
     "cell_type": "code",
     "metadata": {},
     "outputs": [
      {
       "output_type": "stream",
       "stream": "stdout",
       "text": [
        "Inferring delimiter to be ','\n",
        "Setting metadata attribute from dialect delimiter to equal specified value: ','\n",
        "Inferring names from the last header line (line 1 ).\n"
       ]
      }
     ],
     "input": [
      "XNYU = tb.tabarray(SVfile = path+'XNYUstandard_v6_128Imagessvm.LinearSVC.csv')\n",
      "\n",
      "#print rep\n",
      "#str(rep_data['Im_id'][0])[2:-1] in Images\n",
      "Reps = np.unique(Xreps['rep_id'])\n",
      "ModelNYU_CW = np.zeros((len(Images)))\n",
      "imi = 0\n",
      "for im_id in Images:\n",
      "    Correct = int(XNYU[XNYU['Im_id'] == im_id]['iCategory']==XNYU[XNYU['Im_id'] == im_id]['iPrCat'])\n",
      "    ModelNYU_CW[imi] = Correct\n",
      "    imi += 1\n",
      "\n",
      "    "
     ],
     "language": "python",
     "prompt_number": 221
    },
    {
     "cell_type": "code",
     "metadata": {},
     "outputs": [
      {
       "output_type": "pyout",
       "prompt_number": 222,
       "text": [
        "array([ 1.,  1.,  1.,  1.,  1.,  1.,  1.,  0.,  0.,  0.,  0.,  1.,  0.,\n",
        "        1.,  0.,  1.,  0.,  0.,  1.,  0.,  1.,  1.,  1.,  1.,  0.,  0.,\n",
        "        0.,  1.,  1.,  1.,  0.,  0.,  1.,  1.,  1.,  1.,  1.,  1.,  1.,\n",
        "        1.,  1.,  1.,  1.,  1.,  0.,  1.,  1.,  0.,  1.,  0.,  0.,  1.,\n",
        "        1.,  1.,  0.,  0.,  0.,  1.,  1.,  1.,  1.,  1.,  0.,  0.,  1.,\n",
        "        0.,  0.,  0.,  1.,  1.,  0.,  1.,  1.,  0.,  1.,  0.,  1.,  0.,\n",
        "        1.,  0.,  1.,  0.,  1.,  1.,  1.,  1.,  0.,  1.,  0.,  0.,  1.,\n",
        "        1.,  1.,  0.,  0.,  1.,  0.,  1.,  0.,  1.,  0.,  1.,  1.,  1.,\n",
        "        0.,  1.,  0.,  1.,  0.,  1.,  0.,  1.,  1.,  1.,  1.,  1.,  0.,\n",
        "        1.,  1.,  1.,  1.,  1.,  1.,  1.,  1.,  1.,  1.,  1.])"
       ],
       "metadata": {}
      }
     ],
     "input": [
      "ModelNYU_CW"
     ],
     "language": "python",
     "prompt_number": 222
    },
    {
     "cell_type": "code",
     "metadata": {},
     "outputs": [
      {
       "output_type": "display_data",
       "png": "[encoded data removed]",
       "text": [
        "<matplotlib.figure.Figure at 0x1383fe90>"
       ],
       "metadata": {}
      }
     ],
     "input": [
      "#Plot  unnormalized metric value with noise ceiling for standard time bin\n",
      "\n",
      "standard_time_bin_index = TimeBins_100ms.index([70,170])\n",
      "ModelIT = CMImagLCW_CT_100ms[standard_time_bin_index,:,0]\n",
      "ModelNYU = ModelNYU_CW#CMImagLCW_CT_100ms[standard_time_bin_index,:,0]\n",
      "\n",
      "\n",
      "models = [ModelIT, ModelNYU]\n",
      "mean_metric_value = mean(individual_to_pool)\n",
      "model_metric_values = [metric(model, pool) for model in models]\n",
      "modelIT_metric_value = metric(ModelIT, pool)\n",
      "modelNYU_metric_value = metric(ModelNYU, pool)\n",
      "\n",
      "error = np.std(individual_to_pool)\n",
      "\n",
      "noise_ceiling = np.mean(noise_level)\n",
      "noise_ceiling_error = ss.sem(noise_level)\n",
      "noise_ceiling_low = noise_ceiling-noise_ceiling_error\n",
      "noise_ceiling_high = noise_ceiling+noise_ceiling_error\n",
      "\n",
      "\n",
      "\n",
      "fig,ax = subplots(1,2,figsize = (10, 10))\n",
      "ax[0].bar([.125], [mean_metric_value], yerr=[error], width=.75)\n",
      "ax[0].bar([ 1.125], [ modelIT_metric_value], yerr=[0], width=.75, facecolor='r')\n",
      "ax[0].bar([ 2.125], [ modelNYU_metric_value], yerr=[0], width=.75, facecolor='y')\n",
      "def draw_noise_ceiling():\n",
      "    ax[0].axhspan(noise_ceiling_low, noise_ceiling_high, facecolor='gray', alpha=0.5)\n",
      "    ax[0].axhspan(noise_ceiling, noise_ceiling, facecolor='gray')\n",
      "draw_noise_ceiling()\n",
      "ax[0].axis([0,3,0,1])\n",
      "ax[0].set_title('Unnormalized ', fontsize = 18)\n",
      "ax[0].set_ylabel('Correlation to the pool', fontsize = 14)\n",
      "\n",
      "ax[0].set_xticklabels([])\n",
      "ax[0].set_yticklabels(arange(0,1.1,0.2),fontsize=12)\n",
      "\n",
      "ax[0].text(0.125+0.25,0.2,'Human', fontsize = 24, rotation = 'vertical', color = 'white')\n",
      "\n",
      "ax[0].text(1.125+0.25,0.2,'IT', fontsize = 24, rotation = 'vertical', color = 'white')\n",
      "\n",
      "ax[0].text(2.125+0.25,0.2,'NYU', fontsize = 24, rotation = 'vertical', color = 'white')\n",
      "#Plot normalized metric value\n",
      "\n",
      "mean_metric_value_normalized = mean(normalized)\n",
      "error = np.std(normalized)\n",
      "\n",
      "pool_IC = ss.spearmanr(rep0_pool, rep1_pool)[0]\n",
      "ax[1].bar([.125], [mean_metric_value_normalized], yerr=[error], width=.75)\n",
      "ax[1].bar([ 1.125], [modelIT_metric_value/pool_IC], yerr=[0], width=.75, facecolor='r')\n",
      "ax[1].bar([ 2.125], [modelNYU_metric_value/pool_IC], yerr=[0], width=.75, facecolor='y')\n",
      "\n",
      "\n",
      "ax[1].axis([0,3,0,1])\n",
      "\n",
      "ax[1].set_title('Normalized', fontsize = 18)\n",
      "\n",
      "ax[1].set_xticklabels([])\n",
      "ax[1].set_yticklabels(arange(0,1.1,0.2),fontsize=12)\n",
      "ax[1].text(0.125+0.25,0.2,'Human', fontsize = 24, rotation = 'vertical', color = 'white')\n",
      "\n",
      "ax[1].text(1.125+0.25,0.2,'IT', fontsize = 24, rotation = 'vertical', color = 'white')\n",
      "\n",
      "ax[1].text(2.125+0.25,0.2,'NYU', fontsize = 24, rotation = 'vertical', color = 'white')\n",
      "\n",
      "\n",
      "os.chdir(\"/mindhive/dicarlolab/u/toosi/projs/Consistency/\")\n",
      "import time\n",
      "date= time.strftime(\"%d_%m_%Y\")   \n",
      "if  (os.path.isdir(\"%s\"%((date))))== False:\n",
      "    os.mkdir(\"%s\"%((date)))\n",
      "os.chdir(\"%s\"%((date)))\n",
      "savefig('bar_CorrelationtoPool_NormalizedvsUnnormalizedNYU.pdf')\n",
      "os.chdir(\"/mindhive/dicarlolab/u/toosi/projs/Consistency/\")\n"
     ],
     "language": "python",
     "prompt_number": 243
    },
    {
     "cell_type": "code",
     "metadata": {},
     "outputs": [],
     "input": [],
     "language": "python"
    },
    {
     "cell_type": "code",
     "metadata": {},
     "outputs": [
      {
       "output_type": "display_data",
       "png": "[encoded data removed]",
       "text": [
        "<matplotlib.figure.Figure at 0x608ed90>"
       ],
       "metadata": {}
      }
     ],
     "input": [
      "#Plot  unnormalized metric value with noise ceiling for standard time bin\n",
      "\n",
      "standard_time_bin_index = TimeBins_100ms.index([70,170])\n",
      "ModelIT = CMImagLCW_CT_100ms[standard_time_bin_index,:,0]\n",
      "ModelNYU = ModelNYU_CW#CMImagLCW_CT_100ms[standard_time_bin_index,:,0]\n",
      "\n",
      "\n",
      "#modelITp_metric_value = mean(Modelrep_to_pool)\n",
      "#errorModelITp = std(Modelrep_to_pool)\n",
      "\n",
      "mean_metric_value = mean(individual_to_pool)\n",
      "modelIT_metric_value = metric(ModelIT, pool)\n",
      "modelNYU_metric_value = metric(ModelNYU, pool)\n",
      "\n",
      "error = np.std(individual_to_pool)\n",
      "\n",
      "noise_ceiling = np.mean(noise_level)\n",
      "noise_ceiling_error = ss.sem(noise_level)\n",
      "noise_ceiling_low = noise_ceiling-noise_ceiling_error\n",
      "noise_ceiling_high = noise_ceiling+noise_ceiling_error\n",
      "\n",
      "\n",
      "\n",
      "fig,ax = subplots(1,2,figsize = (10, 10))\n",
      "ax[0].bar([.125], [mean_metric_value], yerr=[error], width=.75)\n",
      "ax[0].bar([ 1.125], [ modelITp_metric_value], yerr=[errorModelITp], width=.75, color='r',ecolor ='k')\n",
      "ax[0].bar([ 2.125], [ modelIT_metric_value], yerr=[0], width=.75, color='r',ecolor ='k')\n",
      "ax[0].bar([ 3.125], [ modelNYU_metric_value], yerr=[0], width=.75, color='y',ecolor ='k')\n",
      "def draw_noise_ceiling():\n",
      "    ax[0].axhspan(noise_ceiling_low, noise_ceiling_high, facecolor='gray', alpha=0.5)\n",
      "    ax[0].axhspan(noise_ceiling, noise_ceiling, facecolor='gray')\n",
      "draw_noise_ceiling()\n",
      "ax[0].axis([0,4,0,1])\n",
      "ax[0].set_title('Unnormalized ', fontsize = 18)\n",
      "ax[0].set_ylabel('Correlation to the pool', fontsize = 14)\n",
      "\n",
      "ax[0].set_xticklabels([])\n",
      "ax[0].set_yticklabels(arange(0,1.1,0.2),fontsize=12)\n",
      "\n",
      "ax[0].text(0.125+0.25,0.2,'Human', fontsize = 24, rotation = 'vertical', color = 'white')\n",
      "\n",
      "ax[0].text(1.125+0.25,0.2,'IT+', fontsize = 24, rotation = 'vertical', color = 'white')\n",
      "ax[0].text(2.125+0.25,0.2,'IT', fontsize = 24, rotation = 'vertical', color = 'white')\n",
      "\n",
      "ax[0].text(3.125+0.25,0.2,'NYU', fontsize = 24, rotation = 'vertical', color = 'white')\n",
      "#Plot normalized metric value\n",
      "\n",
      "mean_metric_value_normalized = mean(normalized)\n",
      "error = np.std(normalized)\n",
      "\n",
      "pool_IC = ss.spearmanr(rep0_pool, rep1_pool)[0]\n",
      "ax[1].bar([.125], [mean_metric_value_normalized], yerr=[error], width=.75,ecolor ='k')\n",
      "ax[1].bar([ 1.125], [modelITp_metric_value/pool_IC], yerr=[errorModelITp], width=.75, color='r',ecolor ='k')\n",
      "\n",
      "ax[1].bar([ 2.125], [modelIT_metric_value/pool_IC], yerr=[0], width=.75, color='r')\n",
      "ax[1].bar([ 3.125], [modelNYU_metric_value/pool_IC], yerr=[0], width=.75, color='y')\n",
      "\n",
      "\n",
      "ax[1].axis([0,4,0,1])\n",
      "\n",
      "ax[1].set_title('Normalized', fontsize = 18)\n",
      "\n",
      "ax[1].set_xticklabels([])\n",
      "ax[1].set_yticklabels(arange(0,1.1,0.2),fontsize=12)\n",
      "ax[1].text(0.125+0.25,0.2,'Human', fontsize = 24, rotation = 'vertical', color = 'white')\n",
      "\n",
      "ax[1].text(1.125+0.25,0.2,'IT+', fontsize = 24, rotation = 'vertical', color = 'white')\n",
      "ax[1].text(2.125+0.25,0.2,'IT', fontsize = 24, rotation = 'vertical', color = 'white')\n",
      "\n",
      "ax[1].text(3.125+0.25,0.2,'NYU', fontsize = 24, rotation = 'vertical', color = 'white')\n",
      "\n",
      "\n",
      "os.chdir(\"/mindhive/dicarlolab/u/toosi/projs/Consistency/\")\n",
      "import time\n",
      "date= time.strftime(\"%d_%m_%Y\")   \n",
      "if  (os.path.isdir(\"%s\"%((date))))== False:\n",
      "    os.mkdir(\"%s\"%((date)))\n",
      "os.chdir(\"%s\"%((date)))\n",
      "savefig('ALLbar_CorrelationtoPool_NormalizedvsUnnormalizedNYU.pdf')\n",
      "os.chdir(\"/mindhive/dicarlolab/u/toosi/projs/Consistency/\")\n"
     ],
     "language": "python",
     "prompt_number": 253
    },
    {
     "cell_type": "code",
     "metadata": {},
     "outputs": [],
     "input": [],
     "language": "python"
    }
   ]
  }
 ],
 "cells": [],
 "metadata": {
  "name": "",
  "signature": "sha256:37e775b5d1212ddbefc5bca590ac34a712ccfa8d199eed7d3d01e63099337086"
 },
 "nbformat": 3,
 "nbformat_minor": 0
}