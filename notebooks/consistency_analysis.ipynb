{
 "metadata": {
  "name": "",
  "signature": "sha256:fd516db21ff60830934bf01cc76bfeee18c7c877030a8d420ff5397ef53158d6"
 },
 "nbformat": 3,
 "nbformat_minor": 0,
 "worksheets": [
  {
   "cells": [
    {
     "cell_type": "code",
     "collapsed": false,
     "input": [
      "import scipy.stats as ss\n",
      "import dldata.stimulus_sets.hvm as hvm\n",
      "import pymongo as pm\n",
      "dataset = hvm.HvMWithDiscfade()\n",
      "dataset = dataset\n",
      "meta = dataset.meta"
     ],
     "language": "python",
     "metadata": {},
     "outputs": [
      {
       "output_type": "stream",
       "stream": "stdout",
       "text": [
        "common attributes, forcing a renaming ...\n",
        "Using default renamer ...\n",
        "('Replacing columns', ['rxz', 'rxy', 'ryz'])"
       ]
      },
      {
       "output_type": "stream",
       "stream": "stdout",
       "text": [
        "\n"
       ]
      }
     ],
     "prompt_number": 77
    },
    {
     "cell_type": "code",
     "collapsed": false,
     "input": [
      "import dldata.human_data.confusion_matrices as CM\n",
      "import tabular as tb\n",
      "coll = pm.MongoClient(port=22334)['mturk']['hvm_dense_smp_v6_2rpw']\n",
      "#CM.update_collection_stimduration(coll) only need to do it once"
     ],
     "language": "python",
     "metadata": {},
     "outputs": [],
     "prompt_number": 78
    },
    {
     "cell_type": "code",
     "collapsed": false,
     "input": [
      "raw_data = CM.get_data('hvm_dense_smp_v6_2rpw', field='category')\n",
      "    "
     ],
     "language": "python",
     "metadata": {},
     "outputs": [],
     "prompt_number": 79
    },
    {
     "cell_type": "markdown",
     "metadata": {},
     "source": [
      "Clean up data"
     ]
    },
    {
     "cell_type": "code",
     "collapsed": false,
     "input": [
      "#Add rep number to raw data, then clean\n",
      "which_rep = {}\n",
      "for worker in np.unique(raw_data['WorkerId']):\n",
      "    which_rep[worker] = {}\n",
      "    for filename in np.unique(raw_data['filename']):\n",
      "        which_rep[worker][filename] = 0\n",
      "rep = np.zeros(raw_data['filename'].shape[0])\n",
      "for i, trial in enumerate(raw_data):\n",
      "    filename = trial['filename']\n",
      "    worker = trial['WorkerId']\n",
      "    rep[i] = which_rep[worker][filename]\n",
      "    which_rep[worker][filename] = which_rep[worker][filename]+1\n",
      "raw_data_with_rep = raw_data.addcols([rep], names=['rep'])\n",
      "\n",
      "#Get rid of everything but first two trials, get rid of learning reps (Images of V3 and V0)\n",
      "data = raw_data_with_rep[raw_data_with_rep['rep']<2]\n",
      "data = data[data['var'] == 'V6']"
     ],
     "language": "python",
     "metadata": {},
     "outputs": [],
     "prompt_number": 80
    },
    {
     "cell_type": "markdown",
     "metadata": {},
     "source": [
      "Reformat data"
     ]
    },
    {
     "cell_type": "code",
     "collapsed": false,
     "input": [
      "#Reformat to matrix\n",
      "M = [] #images, reps, worker\n",
      "canonical_order = np.unique(data['filename'])\n",
      "workers = np.unique(data['WorkerId'])\n",
      "n_workers = len(workers)\n",
      "for worker in workers:\n",
      "    worker_data = data[data['WorkerId']==worker]\n",
      "    rep0 = worker_data[worker_data['rep']==0]\n",
      "    rep1 = worker_data[worker_data['rep']==1]\n",
      "    c0 = []\n",
      "    c1 = []\n",
      "    for Imid in canonical_order:\n",
      "        c0.append(rep0[rep0['filename'] == Imid]['correct'])\n",
      "        c1.append(rep1[rep1['filename'] == Imid]['correct'])\n",
      "    X = np.column_stack([np.array(c0), np.array(c1)])\n",
      "    X = np.expand_dims(X,2)\n",
      "    M.append(X)\n",
      "    assert set(np.unique(worker_data['filename'])) == set(canonical_order)\n",
      "M = np.concatenate(M,2)\n",
      "assert M.shape == (128, 2, n_workers)\n",
      "print n_workers"
     ],
     "language": "python",
     "metadata": {},
     "outputs": [
      {
       "output_type": "stream",
       "stream": "stdout",
       "text": [
        "17\n"
       ]
      }
     ],
     "prompt_number": 82
    },
    {
     "cell_type": "code",
     "collapsed": false,
     "input": [
      "#Calculate reliability\n",
      "worker_ics = np.zeros(M.shape[2])\n",
      "worker_reliability = np.zeros(M.shape[2])\n",
      "for worker in range(M.shape[2]):\n",
      "    #Get ic using spearman\n",
      "    worker_ics[worker] = ss.spearmanr(M[:, 0, worker], M[:, 1, worker])[0]\n",
      "    worker_reliability[worker] = sum(M[:, 0, worker]== M[:, 1, worker])/float(M.shape[0])"
     ],
     "language": "python",
     "metadata": {},
     "outputs": [],
     "prompt_number": 83
    },
    {
     "cell_type": "code",
     "collapsed": false,
     "input": [
      "scatter(worker_ics, worker_reliability)\n",
      "title('Internal consistency of data')\n",
      "xlabel('Spearman IC')\n",
      "ylabel('Reliability')"
     ],
     "language": "python",
     "metadata": {},
     "outputs": [
      {
       "metadata": {},
       "output_type": "pyout",
       "prompt_number": 84,
       "text": [
        "<matplotlib.text.Text at 0x852b310>"
       ]
      },
      {
       "metadata": {},
       "output_type": "display_data",
       "png": "[encoded data removed]",
       "text": [
        "<matplotlib.figure.Figure at 0xa8dd8d0>"
       ]
      }
     ],
     "prompt_number": 84
    },
    {
     "cell_type": "code",
     "collapsed": false,
     "input": [
      "#Get pool value\n",
      "\n",
      "pool = np.mean(np.mean(M, 2), 1)"
     ],
     "language": "python",
     "metadata": {},
     "outputs": [],
     "prompt_number": 85
    },
    {
     "cell_type": "code",
     "collapsed": false,
     "input": [
      "plot(sorted(pool))\n",
      "title('Pool image accuracies')\n",
      "ylabel('% correct')\n",
      "xlabel('Image index (sorted by accuracy)')"
     ],
     "language": "python",
     "metadata": {},
     "outputs": [
      {
       "metadata": {},
       "output_type": "pyout",
       "prompt_number": 86,
       "text": [
        "<matplotlib.text.Text at 0x6cc8790>"
       ]
      },
      {
       "metadata": {},
       "output_type": "display_data",
       "png": "[encoded data removed]",
       "text": [
        "<matplotlib.figure.Figure at 0x9b77e50>"
       ]
      }
     ],
     "prompt_number": 86
    },
    {
     "cell_type": "code",
     "collapsed": false,
     "input": [
      "def metric(x,y):\n",
      "    return ss.spearmanr(x,y)[0]\n",
      "\n",
      "individual_to_pool= []\n",
      "noise_level = []\n",
      "    \n",
      "for worker in range(M.shape[2]):\n",
      "    rep0_pool = np.delete(np.squeeze(np.copy(M[:,0,:])), worker, 1).sum(1)\n",
      "    rep1_pool = np.delete(np.squeeze(np.copy(M[:,1,:])), worker, 1).sum(1)\n",
      "    rep0_trials = M[:, 0, worker]\n",
      "    rep1_trials = M[:, 1, worker]\n",
      "    \n",
      "    consistencies = [metric(rep0_trials, rep0_pool), metric(rep1_trials, rep1_pool)]\n",
      "    noise_level.append(sqrt(ss.spearmanr(rep0_pool, rep1_pool)[0]*ss.spearmanr(rep0_trials, rep1_trials)[0]))\n",
      "    \n",
      "    assert rep0_pool.shape == (128,)\n",
      "\n",
      "    individual_to_pool.extend(consistencies)\n",
      "\n",
      "normalized = []\n",
      "for split1, split2, noise in zip(individual_to_pool[::2], individual_to_pool[1::2], noise_level):\n",
      "    normalized.append(split1/noise)\n",
      "    normalized.append(split2/noise)"
     ],
     "language": "python",
     "metadata": {},
     "outputs": [],
     "prompt_number": 87
    },
    {
     "cell_type": "code",
     "collapsed": false,
     "input": [
      "hist(individual_to_pool)\n",
      "figure()\n",
      "hist(normalized)"
     ],
     "language": "python",
     "metadata": {},
     "outputs": [
      {
       "metadata": {},
       "output_type": "pyout",
       "prompt_number": 176,
       "text": [
        "(array([1, 2, 5, 0, 4, 5, 6, 4, 3, 4]),\n",
        " array([ 0.46213708,  0.51472454,  0.567312  ,  0.61989946,  0.67248692,\n",
        "         0.72507438,  0.77766184,  0.8302493 ,  0.88283676,  0.93542422,\n",
        "         0.98801167]),\n",
        " <a list of 10 Patch objects>)"
       ]
      },
      {
       "metadata": {},
       "output_type": "display_data",
       "png": "[encoded data removed]",
       "text": [
        "<matplotlib.figure.Figure at 0x9b56650>"
       ]
      },
      {
       "metadata": {},
       "output_type": "display_data",
       "png": "[encoded data removed]",
       "text": [
        "<matplotlib.figure.Figure at 0x9b56510>"
       ]
      }
     ],
     "prompt_number": 176
    },
    {
     "cell_type": "code",
     "collapsed": false,
     "input": [
      "#Grab model results from saved CSV file for 20ms\n",
      "\n",
      "\n",
      "\n",
      "TimeBinCenters_20ms = [ -90.,  -80.,  -70.,  -60.,  -50.,  -40.,  -30.,  -20.,  -10.,\n",
      "          0.,   10.,   20.,   30.,   40.,   50.,   60.,   70.,   80.,\n",
      "         90.,  100.,  110.,  120.,  130.,  140.,  150.,  160.,  170.,\n",
      "        180.,  190.,  200.,  210.,  220.,  230.,  240.,  250.,  260.,\n",
      "        270.,  280.,  290.]\n",
      "\n",
      "TimeBins_20ms = [[-100, -80],\n",
      " [-90, -70],\n",
      " [-80, -60],\n",
      " [-70, -50],\n",
      " [-60, -40],\n",
      " [-50, -30],\n",
      " [-40, -20],\n",
      " [-30, -10],\n",
      " [-20, 0],\n",
      " [-10, 10],\n",
      " [0, 20],\n",
      " [10, 30],\n",
      " [20, 40],\n",
      " [30, 50],\n",
      " [40, 60],\n",
      " [50, 70],\n",
      " [60, 80],\n",
      " [70, 90],\n",
      " [80, 100],\n",
      " [90, 110],\n",
      " [100, 120],\n",
      " [110, 130],\n",
      " [120, 140],\n",
      " [130, 150],\n",
      " [140, 160],\n",
      " [150, 170],\n",
      " [160, 180],\n",
      " [170, 190],\n",
      " [180, 200],\n",
      " [190, 210],\n",
      " [200, 220],\n",
      " [210, 230],\n",
      " [220, 240],\n",
      " [230, 250],\n",
      " [240, 260],\n",
      " [250, 270],\n",
      " [260, 280],\n",
      " [270, 290],\n",
      " [280, 300]]\n",
      "\n",
      "filename_to_id = {}\n",
      "for trial in data:\n",
      "    filename_to_id[trial['filename']] = trial['_id']\n",
      "Images = [filename_to_id[filename] for filename in canonical_order]\n",
      "\n",
      "import os\n",
      "import tabular as tb\n",
      "T0C = -50\n",
      "T1C = 200\n",
      "iT0C = [i for i,v in enumerate(TimeBinCenters_20ms) if v==T0C][0]\n",
      "iT1C = [i for i,v in enumerate(TimeBinCenters_20ms) if v==T1C][0]\n",
      "n_splits = 1\n",
      "CMImagL_CT = np.zeros((len(arange(iT0C,iT1C)),len(Images),n_splits))\n",
      "CMImagLCW_CT = np.zeros((len(arange(iT0C,iT1C)),len(Images),n_splits))\n",
      "CMCat_CT = np.zeros((len(arange(iT0C,iT1C)),8,8,n_splits))\n",
      "#Images = unique(XIm['Im_id'])\n",
      "it = 0\n",
      "for t in arange(iT0C,iT1C): \n",
      "    path = os.path.expanduser(\"~/src/BehavioralBenchmark/results/\")\n",
      "    #os.chdir(\"31_12_2014\")#(\"25_11_2014\")#(\"05_12_2014\")\n",
      "    filename = 'XCt_128Images_20msbinroll%s'%((str(TimeBins_20ms[t])))+'.csv'\n",
      "    assert filename in os.listdir(path)\n",
      "    #HvM_SVMR_100Images_100msbinroll#HvM_SVMR_100Images_roll\n",
      "    XCt = tb.tabarray(SVfile  = path+filename) \n",
      "    #XCt.dtype.names\n",
      "    \n",
      "    \n",
      "    imi = 0\n",
      "    for Imid in Images:\n",
      "        for sp in range(int(unique(XCt['n_splits']))):\n",
      "            CMImagL_CT[it,imi,sp]= XCt[(XCt['Im_id'] == Imid)&(XCt['split']==sp)]['iPrCat'][0]\n",
      "            if (XCt[(XCt['Im_id'] == Imid)&(XCt['split']==sp)]['iPrCat'][0] == \\\n",
      "                XCt[(XCt['Im_id'] == Imid)&(XCt['split']==sp)]['iCategory'][0]):\n",
      "                CMImagLCW_CT[it,imi,sp]= 1\n",
      "            iCat = XCt[(XCt['Im_id'] == Imid)&(XCt['split']==sp)]['iCategory'][0]\n",
      "            iPrCat = XCt[(XCt['Im_id'] == Imid)&(XCt['split']==sp)]['iPrCat'][0]\n",
      "            CMCat_CT[it,iCat,iPrCat,sp] = CMCat_CT[it,iCat,iPrCat,sp] + 1\n",
      "        imi += 1\n",
      "    it +=1"
     ],
     "language": "python",
     "metadata": {},
     "outputs": [
      {
       "output_type": "stream",
       "stream": "stdout",
       "text": [
        "Inferring delimiter to be ','\n",
        "Setting metadata attribute from dialect delimiter to equal specified value: ','\n",
        "Inferring names from the last header line (line 1 ).\n",
        "Inferring delimiter to be ','"
       ]
      },
      {
       "output_type": "stream",
       "stream": "stdout",
       "text": [
        "\n",
        "Setting metadata attribute from dialect delimiter to equal specified value: ','\n",
        "Inferring names from the last header line (line 1 ).\n",
        "Inferring delimiter to be ','"
       ]
      },
      {
       "output_type": "stream",
       "stream": "stdout",
       "text": [
        "\n",
        "Setting metadata attribute from dialect delimiter to equal specified value: ','\n",
        "Inferring names from the last header line (line 1 ).\n",
        "Inferring delimiter to be ','"
       ]
      },
      {
       "output_type": "stream",
       "stream": "stdout",
       "text": [
        "\n",
        "Setting metadata attribute from dialect delimiter to equal specified value: ','\n",
        "Inferring names from the last header line (line 1 ).\n",
        "Inferring delimiter to be ','"
       ]
      },
      {
       "output_type": "stream",
       "stream": "stdout",
       "text": [
        "\n",
        "Setting metadata attribute from dialect delimiter to equal specified value: ','\n",
        "Inferring names from the last header line (line 1 ).\n",
        "Inferring delimiter to be ','"
       ]
      },
      {
       "output_type": "stream",
       "stream": "stdout",
       "text": [
        "\n",
        "Setting metadata attribute from dialect delimiter to equal specified value: ','\n",
        "Inferring names from the last header line (line 1 ).\n",
        "Inferring delimiter to be ','"
       ]
      },
      {
       "output_type": "stream",
       "stream": "stdout",
       "text": [
        "\n",
        "Setting metadata attribute from dialect delimiter to equal specified value: ','\n",
        "Inferring names from the last header line (line 1 ).\n",
        "Inferring delimiter to be ','"
       ]
      },
      {
       "output_type": "stream",
       "stream": "stdout",
       "text": [
        "\n",
        "Setting metadata attribute from dialect delimiter to equal specified value: ','\n",
        "Inferring names from the last header line (line 1 ).\n",
        "Inferring delimiter to be ','"
       ]
      },
      {
       "output_type": "stream",
       "stream": "stdout",
       "text": [
        "\n",
        "Setting metadata attribute from dialect delimiter to equal specified value: ','\n",
        "Inferring names from the last header line (line 1 ).\n",
        "Inferring delimiter to be ','"
       ]
      },
      {
       "output_type": "stream",
       "stream": "stdout",
       "text": [
        "\n",
        "Setting metadata attribute from dialect delimiter to equal specified value: ','\n",
        "Inferring names from the last header line (line 1 ).\n",
        "Inferring delimiter to be ','"
       ]
      },
      {
       "output_type": "stream",
       "stream": "stdout",
       "text": [
        "\n",
        "Setting metadata attribute from dialect delimiter to equal specified value: ','\n",
        "Inferring names from the last header line (line 1 ).\n",
        "Inferring delimiter to be ','"
       ]
      },
      {
       "output_type": "stream",
       "stream": "stdout",
       "text": [
        "\n",
        "Setting metadata attribute from dialect delimiter to equal specified value: ','\n",
        "Inferring names from the last header line (line 1 ).\n",
        "Inferring delimiter to be ','"
       ]
      },
      {
       "output_type": "stream",
       "stream": "stdout",
       "text": [
        "\n",
        "Setting metadata attribute from dialect delimiter to equal specified value: ','\n",
        "Inferring names from the last header line (line 1 ).\n",
        "Inferring delimiter to be ','"
       ]
      },
      {
       "output_type": "stream",
       "stream": "stdout",
       "text": [
        "\n",
        "Setting metadata attribute from dialect delimiter to equal specified value: ','\n",
        "Inferring names from the last header line (line 1 ).\n",
        "Inferring delimiter to be ','"
       ]
      },
      {
       "output_type": "stream",
       "stream": "stdout",
       "text": [
        "\n",
        "Setting metadata attribute from dialect delimiter to equal specified value: ','\n",
        "Inferring names from the last header line (line 1 ).\n",
        "Inferring delimiter to be ','"
       ]
      },
      {
       "output_type": "stream",
       "stream": "stdout",
       "text": [
        "\n",
        "Setting metadata attribute from dialect delimiter to equal specified value: ','\n",
        "Inferring names from the last header line (line 1 ).\n",
        "Inferring delimiter to be ','"
       ]
      },
      {
       "output_type": "stream",
       "stream": "stdout",
       "text": [
        "\n",
        "Setting metadata attribute from dialect delimiter to equal specified value: ','\n",
        "Inferring names from the last header line (line 1 ).\n",
        "Inferring delimiter to be ','"
       ]
      },
      {
       "output_type": "stream",
       "stream": "stdout",
       "text": [
        "\n",
        "Setting metadata attribute from dialect delimiter to equal specified value: ','\n",
        "Inferring names from the last header line (line 1 ).\n",
        "Inferring delimiter to be ','"
       ]
      },
      {
       "output_type": "stream",
       "stream": "stdout",
       "text": [
        "\n",
        "Setting metadata attribute from dialect delimiter to equal specified value: ','\n",
        "Inferring names from the last header line (line 1 ).\n",
        "Inferring delimiter to be ','"
       ]
      },
      {
       "output_type": "stream",
       "stream": "stdout",
       "text": [
        "\n",
        "Setting metadata attribute from dialect delimiter to equal specified value: ','\n",
        "Inferring names from the last header line (line 1 ).\n",
        "Inferring delimiter to be ','"
       ]
      },
      {
       "output_type": "stream",
       "stream": "stdout",
       "text": [
        "\n",
        "Setting metadata attribute from dialect delimiter to equal specified value: ','\n",
        "Inferring names from the last header line (line 1 ).\n",
        "Inferring delimiter to be ','"
       ]
      },
      {
       "output_type": "stream",
       "stream": "stdout",
       "text": [
        "\n",
        "Setting metadata attribute from dialect delimiter to equal specified value: ','\n",
        "Inferring names from the last header line (line 1 ).\n",
        "Inferring delimiter to be ','"
       ]
      },
      {
       "output_type": "stream",
       "stream": "stdout",
       "text": [
        "\n",
        "Setting metadata attribute from dialect delimiter to equal specified value: ','\n",
        "Inferring names from the last header line (line 1 ).\n",
        "Inferring delimiter to be ','"
       ]
      },
      {
       "output_type": "stream",
       "stream": "stdout",
       "text": [
        "\n",
        "Setting metadata attribute from dialect delimiter to equal specified value: ','\n",
        "Inferring names from the last header line (line 1 ).\n",
        "Inferring delimiter to be ','"
       ]
      },
      {
       "output_type": "stream",
       "stream": "stdout",
       "text": [
        "\n",
        "Setting metadata attribute from dialect delimiter to equal specified value: ','\n",
        "Inferring names from the last header line (line 1 ).\n"
       ]
      }
     ],
     "prompt_number": 93
    },
    {
     "cell_type": "code",
     "collapsed": false,
     "input": [
      "#Grab model results from saved CSV file for 100ms\n",
      "\n",
      "path = os.path.expanduser(\"~/src/BehavioralBenchmark/results/\")\n",
      "prefix = 'XCt_128Images_100msbinroll['\n",
      "suffix = '].csv'\n",
      "filenames = [f for f in os.listdir(path) if (f.startswith(prefix) and f.endswith(suffix))]\n",
      "TimeBins_100ms = [[int(i) for i in f[len(prefix):][:-len(suffix)].split(', ')] for f in filenames]\n",
      "TimeBinCenters_100ms = [l[0]+50 for l in TimeBins_100ms]\n",
      "\n",
      "\n",
      "\n",
      "filename_to_id = {}\n",
      "for trial in data:\n",
      "    filename_to_id[trial['filename']] = trial['_id']\n",
      "Images = [filename_to_id[filename] for filename in canonical_order]\n",
      "\n",
      "import os\n",
      "import tabular as tb\n",
      "T0C = 50\n",
      "T1C = 200\n",
      "iT0C = [i for i,v in enumerate(TimeBinCenters_100ms) if v==T0C][0]\n",
      "iT1C = [i for i,v in enumerate(TimeBinCenters_100ms) if v==T1C][0]\n",
      "n_splits = 1\n",
      "CMImagL_CT = np.zeros((len(arange(iT0C,iT1C)),len(Images),n_splits))\n",
      "CMImagLCW_CT = np.zeros((len(arange(iT0C,iT1C)),len(Images),n_splits))\n",
      "CMCat_CT = np.zeros((len(arange(iT0C,iT1C)),8,8,n_splits))\n",
      "#Images = unique(XIm['Im_id'])\n",
      "it = 0\n",
      "for t in arange(iT0C,iT1C): \n",
      "    path = os.path.expanduser(\"~/src/BehavioralBenchmark/results/\")\n",
      "\n",
      "    #os.chdir(\"31_12_2014\")#(\"25_11_2014\")#(\"05_12_2014\")\n",
      "    filename = 'XCt_128Images_100msbinroll%s'%((str(TimeBins_100ms[t])))+'.csv'\n",
      "    assert filename in os.listdir(path)\n",
      "    #HvM_SVMR_100Images_100msbinroll#HvM_SVMR_100Images_roll\n",
      "    XCt = tb.tabarray(SVfile  = path+filename) \n",
      "    #XCt.dtype.names\n",
      "    \n",
      "    \n",
      "    imi = 0\n",
      "    for Imid in Images:\n",
      "        for sp in range(int(unique(XCt['n_splits']))):\n",
      "            CMImagL_CT[it,imi,sp]= XCt[(XCt['Im_id'] == Imid)&(XCt['split']==sp)]['iPrCat'][0]\n",
      "            if (XCt[(XCt['Im_id'] == Imid)&(XCt['split']==sp)]['iPrCat'][0] == \\\n",
      "                XCt[(XCt['Im_id'] == Imid)&(XCt['split']==sp)]['iCategory'][0]):\n",
      "                CMImagLCW_CT[it,imi,sp]= 1\n",
      "            iCat = XCt[(XCt['Im_id'] == Imid)&(XCt['split']==sp)]['iCategory'][0]\n",
      "            iPrCat = XCt[(XCt['Im_id'] == Imid)&(XCt['split']==sp)]['iPrCat'][0]\n",
      "            CMCat_CT[it,iCat,iPrCat,sp] = CMCat_CT[it,iCat,iPrCat,sp] + 1\n",
      "        imi += 1\n",
      "    it +=1"
     ],
     "language": "python",
     "metadata": {},
     "outputs": [
      {
       "ename": "IndexError",
       "evalue": "list index out of range",
       "output_type": "pyerr",
       "traceback": [
        "\u001b[1;31m---------------------------------------------------------------------------\u001b[0m\n\u001b[1;31mIndexError\u001b[0m                                Traceback (most recent call last)",
        "\u001b[1;32m<ipython-input-157-f7fb6e1fa2cb>\u001b[0m in \u001b[0;36m<module>\u001b[1;34m()\u001b[0m\n\u001b[0;32m     20\u001b[0m \u001b[0mT1C\u001b[0m \u001b[1;33m=\u001b[0m \u001b[1;36m200\u001b[0m\u001b[1;33m\u001b[0m\u001b[0m\n\u001b[0;32m     21\u001b[0m \u001b[0miT0C\u001b[0m \u001b[1;33m=\u001b[0m \u001b[1;33m[\u001b[0m\u001b[0mi\u001b[0m \u001b[1;32mfor\u001b[0m \u001b[0mi\u001b[0m\u001b[1;33m,\u001b[0m\u001b[0mv\u001b[0m \u001b[1;32min\u001b[0m \u001b[0menumerate\u001b[0m\u001b[1;33m(\u001b[0m\u001b[0mTimeBinCenters_100ms\u001b[0m\u001b[1;33m)\u001b[0m \u001b[1;32mif\u001b[0m \u001b[0mv\u001b[0m\u001b[1;33m==\u001b[0m\u001b[0mT0C\u001b[0m\u001b[1;33m]\u001b[0m\u001b[1;33m[\u001b[0m\u001b[1;36m0\u001b[0m\u001b[1;33m]\u001b[0m\u001b[1;33m\u001b[0m\u001b[0m\n\u001b[1;32m---> 22\u001b[1;33m \u001b[0miT1C\u001b[0m \u001b[1;33m=\u001b[0m \u001b[1;33m[\u001b[0m\u001b[0mi\u001b[0m \u001b[1;32mfor\u001b[0m \u001b[0mi\u001b[0m\u001b[1;33m,\u001b[0m\u001b[0mv\u001b[0m \u001b[1;32min\u001b[0m \u001b[0menumerate\u001b[0m\u001b[1;33m(\u001b[0m\u001b[0mTimeBinCenters_100ms\u001b[0m\u001b[1;33m)\u001b[0m \u001b[1;32mif\u001b[0m \u001b[0mv\u001b[0m\u001b[1;33m==\u001b[0m\u001b[0mT1C\u001b[0m\u001b[1;33m]\u001b[0m\u001b[1;33m[\u001b[0m\u001b[1;36m0\u001b[0m\u001b[1;33m]\u001b[0m\u001b[1;33m\u001b[0m\u001b[0m\n\u001b[0m\u001b[0;32m     23\u001b[0m \u001b[0mn_splits\u001b[0m \u001b[1;33m=\u001b[0m \u001b[1;36m1\u001b[0m\u001b[1;33m\u001b[0m\u001b[0m\n\u001b[0;32m     24\u001b[0m \u001b[0mCMImagL_CT\u001b[0m \u001b[1;33m=\u001b[0m \u001b[0mnp\u001b[0m\u001b[1;33m.\u001b[0m\u001b[0mzeros\u001b[0m\u001b[1;33m(\u001b[0m\u001b[1;33m(\u001b[0m\u001b[0mlen\u001b[0m\u001b[1;33m(\u001b[0m\u001b[0marange\u001b[0m\u001b[1;33m(\u001b[0m\u001b[0miT0C\u001b[0m\u001b[1;33m,\u001b[0m\u001b[0miT1C\u001b[0m\u001b[1;33m)\u001b[0m\u001b[1;33m)\u001b[0m\u001b[1;33m,\u001b[0m\u001b[0mlen\u001b[0m\u001b[1;33m(\u001b[0m\u001b[0mImages\u001b[0m\u001b[1;33m)\u001b[0m\u001b[1;33m,\u001b[0m\u001b[0mn_splits\u001b[0m\u001b[1;33m)\u001b[0m\u001b[1;33m)\u001b[0m\u001b[1;33m\u001b[0m\u001b[0m\n",
        "\u001b[1;31mIndexError\u001b[0m: list index out of range"
       ]
      }
     ],
     "prompt_number": 157
    },
    {
     "cell_type": "code",
     "collapsed": false,
     "input": [
      "standard_time_bin_index = list(arange(iT0C,iT1C)).index(TimeBins_100ms.index([70,170]))"
     ],
     "language": "python",
     "metadata": {},
     "outputs": [],
     "prompt_number": 167
    },
    {
     "cell_type": "code",
     "collapsed": false,
     "input": [
      "Model = CMImagLCW_CT[standard_time_bin_index,:,0]"
     ],
     "language": "python",
     "metadata": {},
     "outputs": [],
     "prompt_number": 169
    },
    {
     "cell_type": "code",
     "collapsed": false,
     "input": [
      "## [1e-5, 1e-4, 1e-3,.25e-3, 5e-3, .75e-3, 1e-2, .25e-2, 5e-2, .75e-2,  1e-1, 1, 10]"
     ],
     "language": "python",
     "metadata": {},
     "outputs": [],
     "prompt_number": 235
    },
    {
     "cell_type": "code",
     "collapsed": false,
     "input": [
      "mean_metric_value = mean(individual_to_pool)\n",
      "model_metric_value = metric(Model, pool)\n",
      "error = 1.96*ss.sem(individual_to_pool)\n",
      "\n",
      "noise_ceiling = np.mean(noise_level)\n",
      "noise_ceiling_error = ss.sem(noise_level)\n",
      "noise_ceiling_low = noise_ceiling-noise_ceiling_error\n",
      "noise_ceiling_high = noise_ceiling+noise_ceiling_error\n",
      "\n",
      "\n",
      "figure(figsize = (5, 10))\n",
      "bar([.125, 1.125], [mean_metric_value, model_metric_value], yerr=[error, 0], width=.75)\n",
      "axhspan(noise_ceiling_low, noise_ceiling_high, facecolor='g', alpha=0.5)\n",
      "axhspan(noise_ceiling, noise_ceiling, facecolor='g')\n",
      "axis([0,2,0,1])\n",
      "\n",
      "title('Unnormalized')\n",
      "ylabel('Unnormalized Correlation')"
     ],
     "language": "python",
     "metadata": {},
     "outputs": [
      {
       "metadata": {},
       "output_type": "pyout",
       "prompt_number": 180,
       "text": [
        "<matplotlib.text.Text at 0x10321310>"
       ]
      },
      {
       "metadata": {},
       "output_type": "display_data",
       "png": "[encoded data removed]",
       "text": [
        "<matplotlib.figure.Figure at 0x1032b050>"
       ]
      }
     ],
     "prompt_number": 180
    },
    {
     "cell_type": "code",
     "collapsed": false,
     "input": [
      "mean_metric_value_normalized = mean(normalized)\n",
      "error = 1.96*ss.sem(normalized)\n",
      "\n",
      "pool_IC = ss.spearmanr(rep0_pool, rep1_pool)[0]\n",
      "figure(figsize = (5, 10))\n",
      "bar([.125, 1.125], [mean_metric_value_normalized, model_metric_value/pool_IC], yerr=[error, 0], width=.75)\n",
      "axis([0,2,0,1])\n",
      "\n",
      "title('Normalized correlation')"
     ],
     "language": "python",
     "metadata": {},
     "outputs": [
      {
       "metadata": {},
       "output_type": "pyout",
       "prompt_number": 186,
       "text": [
        "<matplotlib.text.Text at 0x102f8ed0>"
       ]
      },
      {
       "metadata": {},
       "output_type": "display_data",
       "png": "[encoded data removed]",
       "text": [
        "<matplotlib.figure.Figure at 0x99e9610>"
       ]
      }
     ],
     "prompt_number": 186
    },
    {
     "cell_type": "code",
     "collapsed": false,
     "input": [],
     "language": "python",
     "metadata": {},
     "outputs": [
      {
       "metadata": {},
       "output_type": "pyout",
       "prompt_number": 184,
       "text": [
        "0.83763487020909544"
       ]
      }
     ],
     "prompt_number": 184
    },
    {
     "cell_type": "code",
     "collapsed": false,
     "input": [
      "hist(normalized)"
     ],
     "language": "python",
     "metadata": {},
     "outputs": [
      {
       "metadata": {},
       "output_type": "pyout",
       "prompt_number": 175,
       "text": [
        "(array([1, 2, 5, 0, 4, 5, 6, 4, 3, 4]),\n",
        " array([ 0.46213708,  0.51472454,  0.567312  ,  0.61989946,  0.67248692,\n",
        "         0.72507438,  0.77766184,  0.8302493 ,  0.88283676,  0.93542422,\n",
        "         0.98801167]),\n",
        " <a list of 10 Patch objects>)"
       ]
      },
      {
       "metadata": {},
       "output_type": "display_data",
       "png": "[encoded data removed]",
       "text": [
        "<matplotlib.figure.Figure at 0x9b49890>"
       ]
      }
     ],
     "prompt_number": 175
    },
    {
     "cell_type": "code",
     "collapsed": false,
     "input": [],
     "language": "python",
     "metadata": {},
     "outputs": []
    }
   ],
   "metadata": {}
  }
 ]
}