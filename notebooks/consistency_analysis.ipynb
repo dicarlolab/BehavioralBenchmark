{
 "metadata": {
  "name": "",
  "signature": "sha256:7fbc50a7b31cfa812e00b1b5bd774ae9906217e8088ea3a43a7019e350231f01"
 },
 "nbformat": 3,
 "nbformat_minor": 0,
 "worksheets": [
  {
   "cells": [
    {
     "cell_type": "code",
     "collapsed": false,
     "input": [
      "import scipy.stats as ss\n",
      "import dldata.stimulus_sets.hvm as hvm\n",
      "import pymongo as pm\n",
      "import dldata.human_data.confusion_matrices as CM\n",
      "import tabular as tb\n",
      "dataset = hvm.HvMWithDiscfade()\n",
      "dataset = dataset\n",
      "meta = dataset.meta"
     ],
     "language": "python",
     "metadata": {},
     "outputs": [
      {
       "output_type": "stream",
       "stream": "stdout",
       "text": [
        "common attributes, forcing a renaming ...\n",
        "Using default renamer ...\n",
        "('Replacing columns', ['rxz', 'rxy', 'ryz'])"
       ]
      },
      {
       "output_type": "stream",
       "stream": "stdout",
       "text": [
        "\n"
       ]
      }
     ],
     "prompt_number": 197
    },
    {
     "cell_type": "markdown",
     "metadata": {},
     "source": [
      "Grab model results from saved CSV file for 100ms\n",
      "--------------------"
     ]
    },
    {
     "cell_type": "code",
     "collapsed": true,
     "input": [
      "\n",
      "path = os.path.expanduser(\"~/src/BehavioralBenchmark/results/\")\n",
      "prefix = 'XCt_128Images_100msbinroll['\n",
      "suffix = '].csv'\n",
      "filenames = [f for f in os.listdir(path) if (f.startswith(prefix) and f.endswith(suffix))]\n",
      "TimeBins_100ms = sorted([[int(i) for i in f[len(prefix):][:-len(suffix)].split(', ')] for f in filenames])\n",
      "TimeBinCenters_100ms = [l[0]+50 for l in TimeBins_100ms]\n",
      "\n",
      "\n",
      "\n",
      "filename_to_id = {}\n",
      "for trial in data:\n",
      "    filename_to_id[trial['filename']] = trial['_id']\n",
      "Images = [filename_to_id[filename] for filename in canonical_order]\n",
      "\n",
      "import os\n",
      "import tabular as tb\n",
      "\n",
      "CMImagL_CT_100ms = np.zeros((len(TimeBins_100ms),len(Images),n_splits))\n",
      "CMImagLCW_CT_100ms = np.zeros((len(TimeBins_100ms),len(Images),n_splits))\n",
      "CMCat_CT_100ms = np.zeros((len(TimeBins_100ms),8,8,n_splits))\n",
      "#Images = unique(XIm['Im_id'])\n",
      "it = 0\n",
      "for time_bin in TimeBins_100ms: \n",
      "    path = os.path.expanduser(\"~/src/BehavioralBenchmark/results/\")\n",
      "\n",
      "    #os.chdir(\"31_12_2014\")#(\"25_11_2014\")#(\"05_12_2014\")\n",
      "    filename = 'XCt_128Images_100msbinroll%s'%((str(time_bin)))+'.csv'\n",
      "    print path+filename\n",
      "    assert filename in os.listdir(path)\n",
      "    #HvM_SVMR_100Images_100msbinroll#HvM_SVMR_100Images_roll\n",
      "    XCt = tb.tabarray(SVfile  = path+filename) \n",
      "    XCt_100ms = tb.tabarray(SVfile = path+filename) \n",
      "    #XCt.dtype.names\n",
      "    \n",
      "    \n",
      "    imi = 0\n",
      "    for Imid in Images:\n",
      "        for sp in range(int(unique(XCt['n_splits']))):\n",
      "            CMImagL_CT_100ms[it,imi,sp]= XCt[(XCt['Im_id'] == Imid)&(XCt['split']==sp)]['iPrCat'][0]\n",
      "            if (XCt[(XCt['Im_id'] == Imid)&(XCt['split']==sp)]['iPrCat'][0] == \\\n",
      "                XCt[(XCt['Im_id'] == Imid)&(XCt['split']==sp)]['iCategory'][0]):\n",
      "                CMImagLCW_CT_100ms[it,imi,sp]= 1\n",
      "            iCat = XCt[(XCt['Im_id'] == Imid)&(XCt['split']==sp)]['iCategory'][0]\n",
      "            iPrCat = XCt[(XCt['Im_id'] == Imid)&(XCt['split']==sp)]['iPrCat'][0]\n",
      "            CMCat_CT_100ms[it,iCat,iPrCat,sp] = CMCat_CT[it,iCat,iPrCat,sp] + 1\n",
      "        imi += 1\n",
      "    it +=1"
     ],
     "language": "python",
     "metadata": {},
     "outputs": [
      {
       "output_type": "stream",
       "stream": "stdout",
       "text": [
        "/mindhive/dicarlolab/u/ardila/src/BehavioralBenchmark/results/XCt_128Images_100msbinroll[-100, 0].csv\n",
        "Inferring delimiter to be ','"
       ]
      },
      {
       "output_type": "stream",
       "stream": "stdout",
       "text": [
        "\n",
        "Setting metadata attribute from dialect delimiter to equal specified value: ','\n",
        "Inferring names from the last header line (line 1 ).\n",
        "Inferring delimiter to be ','"
       ]
      },
      {
       "output_type": "stream",
       "stream": "stdout",
       "text": [
        "\n",
        "Setting metadata attribute from dialect delimiter to equal specified value: ','\n",
        "Inferring names from the last header line (line 1 ).\n",
        "/mindhive/dicarlolab/u/ardila/src/BehavioralBenchmark/results/XCt_128Images_100msbinroll[-90, 10].csv"
       ]
      },
      {
       "output_type": "stream",
       "stream": "stdout",
       "text": [
        "\n",
        "Inferring delimiter to be ','"
       ]
      },
      {
       "output_type": "stream",
       "stream": "stdout",
       "text": [
        "\n",
        "Setting metadata attribute from dialect delimiter to equal specified value: ','\n",
        "Inferring names from the last header line (line 1 ).\n",
        "Inferring delimiter to be ','"
       ]
      },
      {
       "output_type": "stream",
       "stream": "stdout",
       "text": [
        "\n",
        "Setting metadata attribute from dialect delimiter to equal specified value: ','\n",
        "Inferring names from the last header line (line 1 ).\n",
        "/mindhive/dicarlolab/u/ardila/src/BehavioralBenchmark/results/XCt_128Images_100msbinroll[-80, 20].csv"
       ]
      },
      {
       "output_type": "stream",
       "stream": "stdout",
       "text": [
        "\n",
        "Inferring delimiter to be ','"
       ]
      },
      {
       "output_type": "stream",
       "stream": "stdout",
       "text": [
        "\n",
        "Setting metadata attribute from dialect delimiter to equal specified value: ','\n",
        "Inferring names from the last header line (line 1 ).\n",
        "Inferring delimiter to be ','"
       ]
      },
      {
       "output_type": "stream",
       "stream": "stdout",
       "text": [
        "\n",
        "Setting metadata attribute from dialect delimiter to equal specified value: ','\n",
        "Inferring names from the last header line (line 1 ).\n",
        "/mindhive/dicarlolab/u/ardila/src/BehavioralBenchmark/results/XCt_128Images_100msbinroll[-70, 30].csv"
       ]
      },
      {
       "output_type": "stream",
       "stream": "stdout",
       "text": [
        "\n",
        "Inferring delimiter to be ','"
       ]
      },
      {
       "output_type": "stream",
       "stream": "stdout",
       "text": [
        "\n",
        "Setting metadata attribute from dialect delimiter to equal specified value: ','\n",
        "Inferring names from the last header line (line 1 ).\n",
        "Inferring delimiter to be ','"
       ]
      },
      {
       "output_type": "stream",
       "stream": "stdout",
       "text": [
        "\n",
        "Setting metadata attribute from dialect delimiter to equal specified value: ','\n",
        "Inferring names from the last header line (line 1 ).\n",
        "/mindhive/dicarlolab/u/ardila/src/BehavioralBenchmark/results/XCt_128Images_100msbinroll[-60, 40].csv"
       ]
      },
      {
       "output_type": "stream",
       "stream": "stdout",
       "text": [
        "\n",
        "Inferring delimiter to be ','"
       ]
      },
      {
       "output_type": "stream",
       "stream": "stdout",
       "text": [
        "\n",
        "Setting metadata attribute from dialect delimiter to equal specified value: ','\n",
        "Inferring names from the last header line (line 1 ).\n",
        "Inferring delimiter to be ','"
       ]
      },
      {
       "output_type": "stream",
       "stream": "stdout",
       "text": [
        "\n",
        "Setting metadata attribute from dialect delimiter to equal specified value: ','\n",
        "Inferring names from the last header line (line 1 ).\n",
        "/mindhive/dicarlolab/u/ardila/src/BehavioralBenchmark/results/XCt_128Images_100msbinroll[-50, 50].csv"
       ]
      },
      {
       "output_type": "stream",
       "stream": "stdout",
       "text": [
        "\n",
        "Inferring delimiter to be ','"
       ]
      },
      {
       "output_type": "stream",
       "stream": "stdout",
       "text": [
        "\n",
        "Setting metadata attribute from dialect delimiter to equal specified value: ','\n",
        "Inferring names from the last header line (line 1 ).\n",
        "Inferring delimiter to be ','"
       ]
      },
      {
       "output_type": "stream",
       "stream": "stdout",
       "text": [
        "\n",
        "Setting metadata attribute from dialect delimiter to equal specified value: ','\n",
        "Inferring names from the last header line (line 1 ).\n",
        "/mindhive/dicarlolab/u/ardila/src/BehavioralBenchmark/results/XCt_128Images_100msbinroll[-40, 60].csv"
       ]
      },
      {
       "output_type": "stream",
       "stream": "stdout",
       "text": [
        "\n",
        "Inferring delimiter to be ','"
       ]
      },
      {
       "output_type": "stream",
       "stream": "stdout",
       "text": [
        "\n",
        "Setting metadata attribute from dialect delimiter to equal specified value: ','\n",
        "Inferring names from the last header line (line 1 ).\n",
        "Inferring delimiter to be ','"
       ]
      },
      {
       "output_type": "stream",
       "stream": "stdout",
       "text": [
        "\n",
        "Setting metadata attribute from dialect delimiter to equal specified value: ','\n",
        "Inferring names from the last header line (line 1 ).\n",
        "/mindhive/dicarlolab/u/ardila/src/BehavioralBenchmark/results/XCt_128Images_100msbinroll[-30, 70].csv"
       ]
      },
      {
       "output_type": "stream",
       "stream": "stdout",
       "text": [
        "\n",
        "Inferring delimiter to be ','"
       ]
      },
      {
       "output_type": "stream",
       "stream": "stdout",
       "text": [
        "\n",
        "Setting metadata attribute from dialect delimiter to equal specified value: ','\n",
        "Inferring names from the last header line (line 1 ).\n",
        "Inferring delimiter to be ','"
       ]
      },
      {
       "output_type": "stream",
       "stream": "stdout",
       "text": [
        "\n",
        "Setting metadata attribute from dialect delimiter to equal specified value: ','\n",
        "Inferring names from the last header line (line 1 ).\n",
        "/mindhive/dicarlolab/u/ardila/src/BehavioralBenchmark/results/XCt_128Images_100msbinroll[-20, 80].csv"
       ]
      },
      {
       "output_type": "stream",
       "stream": "stdout",
       "text": [
        "\n",
        "Inferring delimiter to be ','"
       ]
      },
      {
       "output_type": "stream",
       "stream": "stdout",
       "text": [
        "\n",
        "Setting metadata attribute from dialect delimiter to equal specified value: ','\n",
        "Inferring names from the last header line (line 1 ).\n",
        "Inferring delimiter to be ','"
       ]
      },
      {
       "output_type": "stream",
       "stream": "stdout",
       "text": [
        "\n",
        "Setting metadata attribute from dialect delimiter to equal specified value: ','\n",
        "Inferring names from the last header line (line 1 ).\n",
        "/mindhive/dicarlolab/u/ardila/src/BehavioralBenchmark/results/XCt_128Images_100msbinroll[-10, 90].csv"
       ]
      },
      {
       "output_type": "stream",
       "stream": "stdout",
       "text": [
        "\n",
        "Inferring delimiter to be ','"
       ]
      },
      {
       "output_type": "stream",
       "stream": "stdout",
       "text": [
        "\n",
        "Setting metadata attribute from dialect delimiter to equal specified value: ','\n",
        "Inferring names from the last header line (line 1 ).\n",
        "Inferring delimiter to be ','"
       ]
      },
      {
       "output_type": "stream",
       "stream": "stdout",
       "text": [
        "\n",
        "Setting metadata attribute from dialect delimiter to equal specified value: ','\n",
        "Inferring names from the last header line (line 1 ).\n",
        "/mindhive/dicarlolab/u/ardila/src/BehavioralBenchmark/results/XCt_128Images_100msbinroll[0, 100].csv"
       ]
      },
      {
       "output_type": "stream",
       "stream": "stdout",
       "text": [
        "\n",
        "Inferring delimiter to be ','"
       ]
      },
      {
       "output_type": "stream",
       "stream": "stdout",
       "text": [
        "\n",
        "Setting metadata attribute from dialect delimiter to equal specified value: ','\n",
        "Inferring names from the last header line (line 1 ).\n",
        "Inferring delimiter to be ','"
       ]
      },
      {
       "output_type": "stream",
       "stream": "stdout",
       "text": [
        "\n",
        "Setting metadata attribute from dialect delimiter to equal specified value: ','\n",
        "Inferring names from the last header line (line 1 ).\n",
        "/mindhive/dicarlolab/u/ardila/src/BehavioralBenchmark/results/XCt_128Images_100msbinroll[10, 110].csv"
       ]
      },
      {
       "output_type": "stream",
       "stream": "stdout",
       "text": [
        "\n",
        "Inferring delimiter to be ','"
       ]
      },
      {
       "output_type": "stream",
       "stream": "stdout",
       "text": [
        "\n",
        "Setting metadata attribute from dialect delimiter to equal specified value: ','\n",
        "Inferring names from the last header line (line 1 ).\n",
        "Inferring delimiter to be ','"
       ]
      },
      {
       "output_type": "stream",
       "stream": "stdout",
       "text": [
        "\n",
        "Setting metadata attribute from dialect delimiter to equal specified value: ','\n",
        "Inferring names from the last header line (line 1 ).\n",
        "/mindhive/dicarlolab/u/ardila/src/BehavioralBenchmark/results/XCt_128Images_100msbinroll[20, 120].csv"
       ]
      },
      {
       "output_type": "stream",
       "stream": "stdout",
       "text": [
        "\n",
        "Inferring delimiter to be ','"
       ]
      },
      {
       "output_type": "stream",
       "stream": "stdout",
       "text": [
        "\n",
        "Setting metadata attribute from dialect delimiter to equal specified value: ','\n",
        "Inferring names from the last header line (line 1 ).\n",
        "Inferring delimiter to be ','"
       ]
      },
      {
       "output_type": "stream",
       "stream": "stdout",
       "text": [
        "\n",
        "Setting metadata attribute from dialect delimiter to equal specified value: ','\n",
        "Inferring names from the last header line (line 1 ).\n",
        "/mindhive/dicarlolab/u/ardila/src/BehavioralBenchmark/results/XCt_128Images_100msbinroll[30, 130].csv"
       ]
      },
      {
       "output_type": "stream",
       "stream": "stdout",
       "text": [
        "\n",
        "Inferring delimiter to be ','"
       ]
      },
      {
       "output_type": "stream",
       "stream": "stdout",
       "text": [
        "\n",
        "Setting metadata attribute from dialect delimiter to equal specified value: ','\n",
        "Inferring names from the last header line (line 1 ).\n",
        "Inferring delimiter to be ','"
       ]
      },
      {
       "output_type": "stream",
       "stream": "stdout",
       "text": [
        "\n",
        "Setting metadata attribute from dialect delimiter to equal specified value: ','\n",
        "Inferring names from the last header line (line 1 ).\n",
        "/mindhive/dicarlolab/u/ardila/src/BehavioralBenchmark/results/XCt_128Images_100msbinroll[40, 140].csv"
       ]
      },
      {
       "output_type": "stream",
       "stream": "stdout",
       "text": [
        "\n",
        "Inferring delimiter to be ','"
       ]
      },
      {
       "output_type": "stream",
       "stream": "stdout",
       "text": [
        "\n",
        "Setting metadata attribute from dialect delimiter to equal specified value: ','\n",
        "Inferring names from the last header line (line 1 ).\n",
        "Inferring delimiter to be ','"
       ]
      },
      {
       "output_type": "stream",
       "stream": "stdout",
       "text": [
        "\n",
        "Setting metadata attribute from dialect delimiter to equal specified value: ','\n",
        "Inferring names from the last header line (line 1 ).\n",
        "/mindhive/dicarlolab/u/ardila/src/BehavioralBenchmark/results/XCt_128Images_100msbinroll[50, 150].csv"
       ]
      },
      {
       "output_type": "stream",
       "stream": "stdout",
       "text": [
        "\n",
        "Inferring delimiter to be ','"
       ]
      },
      {
       "output_type": "stream",
       "stream": "stdout",
       "text": [
        "\n",
        "Setting metadata attribute from dialect delimiter to equal specified value: ','\n",
        "Inferring names from the last header line (line 1 ).\n",
        "Inferring delimiter to be ','"
       ]
      },
      {
       "output_type": "stream",
       "stream": "stdout",
       "text": [
        "\n",
        "Setting metadata attribute from dialect delimiter to equal specified value: ','\n",
        "Inferring names from the last header line (line 1 ).\n",
        "/mindhive/dicarlolab/u/ardila/src/BehavioralBenchmark/results/XCt_128Images_100msbinroll[60, 160].csv"
       ]
      },
      {
       "output_type": "stream",
       "stream": "stdout",
       "text": [
        "\n",
        "Inferring delimiter to be ','"
       ]
      },
      {
       "output_type": "stream",
       "stream": "stdout",
       "text": [
        "\n",
        "Setting metadata attribute from dialect delimiter to equal specified value: ','\n",
        "Inferring names from the last header line (line 1 ).\n",
        "Inferring delimiter to be ','"
       ]
      },
      {
       "output_type": "stream",
       "stream": "stdout",
       "text": [
        "\n",
        "Setting metadata attribute from dialect delimiter to equal specified value: ','\n",
        "Inferring names from the last header line (line 1 ).\n",
        "/mindhive/dicarlolab/u/ardila/src/BehavioralBenchmark/results/XCt_128Images_100msbinroll[70, 170].csv"
       ]
      },
      {
       "output_type": "stream",
       "stream": "stdout",
       "text": [
        "\n",
        "Inferring delimiter to be ','"
       ]
      },
      {
       "output_type": "stream",
       "stream": "stdout",
       "text": [
        "\n",
        "Setting metadata attribute from dialect delimiter to equal specified value: ','\n",
        "Inferring names from the last header line (line 1 ).\n",
        "Inferring delimiter to be ','"
       ]
      },
      {
       "output_type": "stream",
       "stream": "stdout",
       "text": [
        "\n",
        "Setting metadata attribute from dialect delimiter to equal specified value: ','\n",
        "Inferring names from the last header line (line 1 ).\n",
        "/mindhive/dicarlolab/u/ardila/src/BehavioralBenchmark/results/XCt_128Images_100msbinroll[80, 180].csv"
       ]
      },
      {
       "output_type": "stream",
       "stream": "stdout",
       "text": [
        "\n",
        "Inferring delimiter to be ','"
       ]
      },
      {
       "output_type": "stream",
       "stream": "stdout",
       "text": [
        "\n",
        "Setting metadata attribute from dialect delimiter to equal specified value: ','\n",
        "Inferring names from the last header line (line 1 ).\n",
        "Inferring delimiter to be ','"
       ]
      },
      {
       "output_type": "stream",
       "stream": "stdout",
       "text": [
        "\n",
        "Setting metadata attribute from dialect delimiter to equal specified value: ','\n",
        "Inferring names from the last header line (line 1 ).\n",
        "/mindhive/dicarlolab/u/ardila/src/BehavioralBenchmark/results/XCt_128Images_100msbinroll[90, 190].csv"
       ]
      },
      {
       "output_type": "stream",
       "stream": "stdout",
       "text": [
        "\n",
        "Inferring delimiter to be ','"
       ]
      },
      {
       "output_type": "stream",
       "stream": "stdout",
       "text": [
        "\n",
        "Setting metadata attribute from dialect delimiter to equal specified value: ','\n",
        "Inferring names from the last header line (line 1 ).\n",
        "Inferring delimiter to be ','"
       ]
      },
      {
       "output_type": "stream",
       "stream": "stdout",
       "text": [
        "\n",
        "Setting metadata attribute from dialect delimiter to equal specified value: ','\n",
        "Inferring names from the last header line (line 1 ).\n",
        "/mindhive/dicarlolab/u/ardila/src/BehavioralBenchmark/results/XCt_128Images_100msbinroll[100, 200].csv"
       ]
      },
      {
       "output_type": "stream",
       "stream": "stdout",
       "text": [
        "\n",
        "Inferring delimiter to be ','"
       ]
      },
      {
       "output_type": "stream",
       "stream": "stdout",
       "text": [
        "\n",
        "Setting metadata attribute from dialect delimiter to equal specified value: ','\n",
        "Inferring names from the last header line (line 1 ).\n",
        "Inferring delimiter to be ','"
       ]
      },
      {
       "output_type": "stream",
       "stream": "stdout",
       "text": [
        "\n",
        "Setting metadata attribute from dialect delimiter to equal specified value: ','\n",
        "Inferring names from the last header line (line 1 ).\n",
        "/mindhive/dicarlolab/u/ardila/src/BehavioralBenchmark/results/XCt_128Images_100msbinroll[110, 210].csv"
       ]
      },
      {
       "output_type": "stream",
       "stream": "stdout",
       "text": [
        "\n",
        "Inferring delimiter to be ','"
       ]
      },
      {
       "output_type": "stream",
       "stream": "stdout",
       "text": [
        "\n",
        "Setting metadata attribute from dialect delimiter to equal specified value: ','\n",
        "Inferring names from the last header line (line 1 ).\n",
        "Inferring delimiter to be ','"
       ]
      },
      {
       "output_type": "stream",
       "stream": "stdout",
       "text": [
        "\n",
        "Setting metadata attribute from dialect delimiter to equal specified value: ','\n",
        "Inferring names from the last header line (line 1 ).\n",
        "/mindhive/dicarlolab/u/ardila/src/BehavioralBenchmark/results/XCt_128Images_100msbinroll[120, 220].csv"
       ]
      },
      {
       "output_type": "stream",
       "stream": "stdout",
       "text": [
        "\n",
        "Inferring delimiter to be ','"
       ]
      },
      {
       "output_type": "stream",
       "stream": "stdout",
       "text": [
        "\n",
        "Setting metadata attribute from dialect delimiter to equal specified value: ','\n",
        "Inferring names from the last header line (line 1 ).\n",
        "Inferring delimiter to be ','"
       ]
      },
      {
       "output_type": "stream",
       "stream": "stdout",
       "text": [
        "\n",
        "Setting metadata attribute from dialect delimiter to equal specified value: ','\n",
        "Inferring names from the last header line (line 1 ).\n",
        "/mindhive/dicarlolab/u/ardila/src/BehavioralBenchmark/results/XCt_128Images_100msbinroll[130, 230].csv"
       ]
      },
      {
       "output_type": "stream",
       "stream": "stdout",
       "text": [
        "\n",
        "Inferring delimiter to be ','"
       ]
      },
      {
       "output_type": "stream",
       "stream": "stdout",
       "text": [
        "\n",
        "Setting metadata attribute from dialect delimiter to equal specified value: ','\n",
        "Inferring names from the last header line (line 1 ).\n",
        "Inferring delimiter to be ','"
       ]
      },
      {
       "output_type": "stream",
       "stream": "stdout",
       "text": [
        "\n",
        "Setting metadata attribute from dialect delimiter to equal specified value: ','\n",
        "Inferring names from the last header line (line 1 ).\n",
        "/mindhive/dicarlolab/u/ardila/src/BehavioralBenchmark/results/XCt_128Images_100msbinroll[140, 240].csv"
       ]
      },
      {
       "output_type": "stream",
       "stream": "stdout",
       "text": [
        "\n",
        "Inferring delimiter to be ','"
       ]
      },
      {
       "output_type": "stream",
       "stream": "stdout",
       "text": [
        "\n",
        "Setting metadata attribute from dialect delimiter to equal specified value: ','\n",
        "Inferring names from the last header line (line 1 ).\n",
        "Inferring delimiter to be ','"
       ]
      },
      {
       "output_type": "stream",
       "stream": "stdout",
       "text": [
        "\n",
        "Setting metadata attribute from dialect delimiter to equal specified value: ','\n",
        "Inferring names from the last header line (line 1 ).\n"
       ]
      }
     ],
     "prompt_number": 323
    },
    {
     "cell_type": "markdown",
     "metadata": {},
     "source": [
      "Grab model results from saved CSV file for 20ms\n",
      "---------"
     ]
    },
    {
     "cell_type": "code",
     "collapsed": true,
     "input": [
      "path = os.path.expanduser(\"~/src/BehavioralBenchmark/results/\")\n",
      "prefix = 'XCt_128Images_20msbinroll['\n",
      "suffix = '].csv'\n",
      "filenames = [f for f in os.listdir(path) if (f.startswith(prefix) and f.endswith(suffix))]\n",
      "TimeBins_20ms = sorted([[int(i) for i in f[len(prefix):][:-len(suffix)].split(', ')] for f in filenames])\n",
      "TimeBinCenters_20ms = [l[0]+10 for l in TimeBins_20ms]\n",
      "\n",
      "filename_to_id = {}\n",
      "for trial in data:\n",
      "    filename_to_id[trial['filename']] = trial['_id']\n",
      "Images = [filename_to_id[filename] for filename in canonical_order]\n",
      "\n",
      "import os\n",
      "import tabular as tb\n",
      "\n",
      "n_splits = 1\n",
      "CMImagL_CT_20ms = np.zeros((len(TimeBinCenters_20ms),len(Images),n_splits))\n",
      "CMImagLCW_CT_20ms = np.zeros((len(TimeBinCenters_20ms),len(Images),n_splits))\n",
      "CMCat_CT_20ms = np.zeros((len(TimeBinCenters_20ms),8,8,n_splits))\n",
      "#Images = unique(XIm['Im_id'])\n",
      "\n",
      "for time_bin_index, time_bin in enumerate(TimeBins_20ms): \n",
      "    path = os.path.expanduser(\"~/src/BehavioralBenchmark/results/\")\n",
      "    #os.chdir(\"31_12_2014\")#(\"25_11_2014\")#(\"05_12_2014\")\n",
      "    filename = 'XCt_128Images_20msbinroll%s'%((str(time_bin)))+'.csv'\n",
      "    print path+filename\n",
      "    assert filename in os.listdir(path)\n",
      "    #HvM_SVMR_100Images_100msbinroll#HvM_SVMR_100Images_roll\n",
      "    XCt = tb.tabarray(SVfile = path+filename)\n",
      "    XCt_20ms = tb.tabarray(SVfile = path+filename) \n",
      "    #XCt.dtype.names\n",
      "    \n",
      "    \n",
      "    imi = 0\n",
      "    for image_index, Imid in enumerate(Images):\n",
      "        for split in range(int(unique(XCt['n_splits']))):\n",
      "            CMImagL_CT_20ms[time_bin_index,image_index,split]= XCt[(XCt['Im_id'] == Imid)&(XCt['split']==split)]['iPrCat'][0]\n",
      "            if (XCt[(XCt['Im_id'] == Imid)&(XCt['split']==split)]['iPrCat'][0] == \\\n",
      "                XCt[(XCt['Im_id'] == Imid)&(XCt['split']==split)]['iCategory'][0]):\n",
      "                CMImagLCW_CT_20ms[time_bin_index,image_index,split]= 1\n",
      "            iCat = XCt[(XCt['Im_id'] == Imid)&(XCt['split']==split)]['iCategory'][0]\n",
      "            iPrCat = XCt[(XCt['Im_id'] == Imid)&(XCt['split']==split)]['iPrCat'][0]\n",
      "            #time, shown, predicted, split\n",
      "            CMCat_CT_20ms[time_bin_index,iCat,iPrCat,split] = CMCat_CT[time_bin_index,iCat,iPrCat,split] + 1"
     ],
     "language": "python",
     "metadata": {},
     "outputs": [
      {
       "output_type": "stream",
       "stream": "stdout",
       "text": [
        "/mindhive/dicarlolab/u/ardila/src/BehavioralBenchmark/results/XCt_128Images_20msbinroll[-60, -40].csv\n",
        "Inferring delimiter to be ','"
       ]
      },
      {
       "output_type": "stream",
       "stream": "stdout",
       "text": [
        "\n",
        "Setting metadata attribute from dialect delimiter to equal specified value: ','\n",
        "Inferring names from the last header line (line 1 ).\n",
        "Inferring delimiter to be ','"
       ]
      },
      {
       "output_type": "stream",
       "stream": "stdout",
       "text": [
        "\n",
        "Setting metadata attribute from dialect delimiter to equal specified value: ','\n",
        "Inferring names from the last header line (line 1 ).\n",
        "/mindhive/dicarlolab/u/ardila/src/BehavioralBenchmark/results/XCt_128Images_20msbinroll[-50, -30].csv"
       ]
      },
      {
       "output_type": "stream",
       "stream": "stdout",
       "text": [
        "\n",
        "Inferring delimiter to be ','"
       ]
      },
      {
       "output_type": "stream",
       "stream": "stdout",
       "text": [
        "\n",
        "Setting metadata attribute from dialect delimiter to equal specified value: ','\n",
        "Inferring names from the last header line (line 1 ).\n",
        "Inferring delimiter to be ','"
       ]
      },
      {
       "output_type": "stream",
       "stream": "stdout",
       "text": [
        "\n",
        "Setting metadata attribute from dialect delimiter to equal specified value: ','\n",
        "Inferring names from the last header line (line 1 ).\n",
        "/mindhive/dicarlolab/u/ardila/src/BehavioralBenchmark/results/XCt_128Images_20msbinroll[-40, -20].csv"
       ]
      },
      {
       "output_type": "stream",
       "stream": "stdout",
       "text": [
        "\n",
        "Inferring delimiter to be ','"
       ]
      },
      {
       "output_type": "stream",
       "stream": "stdout",
       "text": [
        "\n",
        "Setting metadata attribute from dialect delimiter to equal specified value: ','\n",
        "Inferring names from the last header line (line 1 ).\n",
        "Inferring delimiter to be ','"
       ]
      },
      {
       "output_type": "stream",
       "stream": "stdout",
       "text": [
        "\n",
        "Setting metadata attribute from dialect delimiter to equal specified value: ','\n",
        "Inferring names from the last header line (line 1 ).\n",
        "/mindhive/dicarlolab/u/ardila/src/BehavioralBenchmark/results/XCt_128Images_20msbinroll[-30, -10].csv"
       ]
      },
      {
       "output_type": "stream",
       "stream": "stdout",
       "text": [
        "\n",
        "Inferring delimiter to be ','"
       ]
      },
      {
       "output_type": "stream",
       "stream": "stdout",
       "text": [
        "\n",
        "Setting metadata attribute from dialect delimiter to equal specified value: ','\n",
        "Inferring names from the last header line (line 1 ).\n",
        "Inferring delimiter to be ','"
       ]
      },
      {
       "output_type": "stream",
       "stream": "stdout",
       "text": [
        "\n",
        "Setting metadata attribute from dialect delimiter to equal specified value: ','\n",
        "Inferring names from the last header line (line 1 ).\n",
        "/mindhive/dicarlolab/u/ardila/src/BehavioralBenchmark/results/XCt_128Images_20msbinroll[-20, 0].csv"
       ]
      },
      {
       "output_type": "stream",
       "stream": "stdout",
       "text": [
        "\n",
        "Inferring delimiter to be ','"
       ]
      },
      {
       "output_type": "stream",
       "stream": "stdout",
       "text": [
        "\n",
        "Setting metadata attribute from dialect delimiter to equal specified value: ','\n",
        "Inferring names from the last header line (line 1 ).\n",
        "Inferring delimiter to be ','"
       ]
      },
      {
       "output_type": "stream",
       "stream": "stdout",
       "text": [
        "\n",
        "Setting metadata attribute from dialect delimiter to equal specified value: ','\n",
        "Inferring names from the last header line (line 1 ).\n",
        "/mindhive/dicarlolab/u/ardila/src/BehavioralBenchmark/results/XCt_128Images_20msbinroll[-10, 10].csv"
       ]
      },
      {
       "output_type": "stream",
       "stream": "stdout",
       "text": [
        "\n",
        "Inferring delimiter to be ','"
       ]
      },
      {
       "output_type": "stream",
       "stream": "stdout",
       "text": [
        "\n",
        "Setting metadata attribute from dialect delimiter to equal specified value: ','\n",
        "Inferring names from the last header line (line 1 ).\n",
        "Inferring delimiter to be ','"
       ]
      },
      {
       "output_type": "stream",
       "stream": "stdout",
       "text": [
        "\n",
        "Setting metadata attribute from dialect delimiter to equal specified value: ','\n",
        "Inferring names from the last header line (line 1 ).\n",
        "/mindhive/dicarlolab/u/ardila/src/BehavioralBenchmark/results/XCt_128Images_20msbinroll[0, 20].csv"
       ]
      },
      {
       "output_type": "stream",
       "stream": "stdout",
       "text": [
        "\n",
        "Inferring delimiter to be ','"
       ]
      },
      {
       "output_type": "stream",
       "stream": "stdout",
       "text": [
        "\n",
        "Setting metadata attribute from dialect delimiter to equal specified value: ','\n",
        "Inferring names from the last header line (line 1 ).\n",
        "Inferring delimiter to be ','"
       ]
      },
      {
       "output_type": "stream",
       "stream": "stdout",
       "text": [
        "\n",
        "Setting metadata attribute from dialect delimiter to equal specified value: ','\n",
        "Inferring names from the last header line (line 1 ).\n",
        "/mindhive/dicarlolab/u/ardila/src/BehavioralBenchmark/results/XCt_128Images_20msbinroll[10, 30].csv"
       ]
      },
      {
       "output_type": "stream",
       "stream": "stdout",
       "text": [
        "\n",
        "Inferring delimiter to be ','"
       ]
      },
      {
       "output_type": "stream",
       "stream": "stdout",
       "text": [
        "\n",
        "Setting metadata attribute from dialect delimiter to equal specified value: ','\n",
        "Inferring names from the last header line (line 1 ).\n",
        "Inferring delimiter to be ','"
       ]
      },
      {
       "output_type": "stream",
       "stream": "stdout",
       "text": [
        "\n",
        "Setting metadata attribute from dialect delimiter to equal specified value: ','\n",
        "Inferring names from the last header line (line 1 ).\n",
        "/mindhive/dicarlolab/u/ardila/src/BehavioralBenchmark/results/XCt_128Images_20msbinroll[20, 40].csv"
       ]
      },
      {
       "output_type": "stream",
       "stream": "stdout",
       "text": [
        "\n",
        "Inferring delimiter to be ','"
       ]
      },
      {
       "output_type": "stream",
       "stream": "stdout",
       "text": [
        "\n",
        "Setting metadata attribute from dialect delimiter to equal specified value: ','\n",
        "Inferring names from the last header line (line 1 ).\n",
        "Inferring delimiter to be ','"
       ]
      },
      {
       "output_type": "stream",
       "stream": "stdout",
       "text": [
        "\n",
        "Setting metadata attribute from dialect delimiter to equal specified value: ','\n",
        "Inferring names from the last header line (line 1 ).\n",
        "/mindhive/dicarlolab/u/ardila/src/BehavioralBenchmark/results/XCt_128Images_20msbinroll[30, 50].csv"
       ]
      },
      {
       "output_type": "stream",
       "stream": "stdout",
       "text": [
        "\n",
        "Inferring delimiter to be ','"
       ]
      },
      {
       "output_type": "stream",
       "stream": "stdout",
       "text": [
        "\n",
        "Setting metadata attribute from dialect delimiter to equal specified value: ','\n",
        "Inferring names from the last header line (line 1 ).\n",
        "Inferring delimiter to be ','"
       ]
      },
      {
       "output_type": "stream",
       "stream": "stdout",
       "text": [
        "\n",
        "Setting metadata attribute from dialect delimiter to equal specified value: ','\n",
        "Inferring names from the last header line (line 1 ).\n",
        "/mindhive/dicarlolab/u/ardila/src/BehavioralBenchmark/results/XCt_128Images_20msbinroll[40, 60].csv"
       ]
      },
      {
       "output_type": "stream",
       "stream": "stdout",
       "text": [
        "\n",
        "Inferring delimiter to be ','"
       ]
      },
      {
       "output_type": "stream",
       "stream": "stdout",
       "text": [
        "\n",
        "Setting metadata attribute from dialect delimiter to equal specified value: ','\n",
        "Inferring names from the last header line (line 1 ).\n",
        "Inferring delimiter to be ','"
       ]
      },
      {
       "output_type": "stream",
       "stream": "stdout",
       "text": [
        "\n",
        "Setting metadata attribute from dialect delimiter to equal specified value: ','\n",
        "Inferring names from the last header line (line 1 ).\n",
        "/mindhive/dicarlolab/u/ardila/src/BehavioralBenchmark/results/XCt_128Images_20msbinroll[50, 70].csv"
       ]
      },
      {
       "output_type": "stream",
       "stream": "stdout",
       "text": [
        "\n",
        "Inferring delimiter to be ','"
       ]
      },
      {
       "output_type": "stream",
       "stream": "stdout",
       "text": [
        "\n",
        "Setting metadata attribute from dialect delimiter to equal specified value: ','\n",
        "Inferring names from the last header line (line 1 ).\n",
        "Inferring delimiter to be ','"
       ]
      },
      {
       "output_type": "stream",
       "stream": "stdout",
       "text": [
        "\n",
        "Setting metadata attribute from dialect delimiter to equal specified value: ','\n",
        "Inferring names from the last header line (line 1 ).\n",
        "/mindhive/dicarlolab/u/ardila/src/BehavioralBenchmark/results/XCt_128Images_20msbinroll[60, 80].csv"
       ]
      },
      {
       "output_type": "stream",
       "stream": "stdout",
       "text": [
        "\n",
        "Inferring delimiter to be ','"
       ]
      },
      {
       "output_type": "stream",
       "stream": "stdout",
       "text": [
        "\n",
        "Setting metadata attribute from dialect delimiter to equal specified value: ','\n",
        "Inferring names from the last header line (line 1 ).\n",
        "Inferring delimiter to be ','"
       ]
      },
      {
       "output_type": "stream",
       "stream": "stdout",
       "text": [
        "\n",
        "Setting metadata attribute from dialect delimiter to equal specified value: ','\n",
        "Inferring names from the last header line (line 1 ).\n",
        "/mindhive/dicarlolab/u/ardila/src/BehavioralBenchmark/results/XCt_128Images_20msbinroll[70, 90].csv"
       ]
      },
      {
       "output_type": "stream",
       "stream": "stdout",
       "text": [
        "\n",
        "Inferring delimiter to be ','"
       ]
      },
      {
       "output_type": "stream",
       "stream": "stdout",
       "text": [
        "\n",
        "Setting metadata attribute from dialect delimiter to equal specified value: ','\n",
        "Inferring names from the last header line (line 1 ).\n",
        "Inferring delimiter to be ','"
       ]
      },
      {
       "output_type": "stream",
       "stream": "stdout",
       "text": [
        "\n",
        "Setting metadata attribute from dialect delimiter to equal specified value: ','\n",
        "Inferring names from the last header line (line 1 ).\n",
        "/mindhive/dicarlolab/u/ardila/src/BehavioralBenchmark/results/XCt_128Images_20msbinroll[80, 100].csv"
       ]
      },
      {
       "output_type": "stream",
       "stream": "stdout",
       "text": [
        "\n",
        "Inferring delimiter to be ','"
       ]
      },
      {
       "output_type": "stream",
       "stream": "stdout",
       "text": [
        "\n",
        "Setting metadata attribute from dialect delimiter to equal specified value: ','\n",
        "Inferring names from the last header line (line 1 ).\n",
        "Inferring delimiter to be ','"
       ]
      },
      {
       "output_type": "stream",
       "stream": "stdout",
       "text": [
        "\n",
        "Setting metadata attribute from dialect delimiter to equal specified value: ','\n",
        "Inferring names from the last header line (line 1 ).\n",
        "/mindhive/dicarlolab/u/ardila/src/BehavioralBenchmark/results/XCt_128Images_20msbinroll[90, 110].csv"
       ]
      },
      {
       "output_type": "stream",
       "stream": "stdout",
       "text": [
        "\n",
        "Inferring delimiter to be ','"
       ]
      },
      {
       "output_type": "stream",
       "stream": "stdout",
       "text": [
        "\n",
        "Setting metadata attribute from dialect delimiter to equal specified value: ','\n",
        "Inferring names from the last header line (line 1 ).\n",
        "Inferring delimiter to be ','"
       ]
      },
      {
       "output_type": "stream",
       "stream": "stdout",
       "text": [
        "\n",
        "Setting metadata attribute from dialect delimiter to equal specified value: ','\n",
        "Inferring names from the last header line (line 1 ).\n",
        "/mindhive/dicarlolab/u/ardila/src/BehavioralBenchmark/results/XCt_128Images_20msbinroll[100, 120].csv"
       ]
      },
      {
       "output_type": "stream",
       "stream": "stdout",
       "text": [
        "\n",
        "Inferring delimiter to be ','"
       ]
      },
      {
       "output_type": "stream",
       "stream": "stdout",
       "text": [
        "\n",
        "Setting metadata attribute from dialect delimiter to equal specified value: ','\n",
        "Inferring names from the last header line (line 1 ).\n",
        "Inferring delimiter to be ','"
       ]
      },
      {
       "output_type": "stream",
       "stream": "stdout",
       "text": [
        "\n",
        "Setting metadata attribute from dialect delimiter to equal specified value: ','\n",
        "Inferring names from the last header line (line 1 ).\n",
        "/mindhive/dicarlolab/u/ardila/src/BehavioralBenchmark/results/XCt_128Images_20msbinroll[110, 130].csv"
       ]
      },
      {
       "output_type": "stream",
       "stream": "stdout",
       "text": [
        "\n",
        "Inferring delimiter to be ','"
       ]
      },
      {
       "output_type": "stream",
       "stream": "stdout",
       "text": [
        "\n",
        "Setting metadata attribute from dialect delimiter to equal specified value: ','\n",
        "Inferring names from the last header line (line 1 ).\n",
        "Inferring delimiter to be ','"
       ]
      },
      {
       "output_type": "stream",
       "stream": "stdout",
       "text": [
        "\n",
        "Setting metadata attribute from dialect delimiter to equal specified value: ','\n",
        "Inferring names from the last header line (line 1 ).\n",
        "/mindhive/dicarlolab/u/ardila/src/BehavioralBenchmark/results/XCt_128Images_20msbinroll[120, 140].csv"
       ]
      },
      {
       "output_type": "stream",
       "stream": "stdout",
       "text": [
        "\n",
        "Inferring delimiter to be ','"
       ]
      },
      {
       "output_type": "stream",
       "stream": "stdout",
       "text": [
        "\n",
        "Setting metadata attribute from dialect delimiter to equal specified value: ','\n",
        "Inferring names from the last header line (line 1 ).\n",
        "Inferring delimiter to be ','"
       ]
      },
      {
       "output_type": "stream",
       "stream": "stdout",
       "text": [
        "\n",
        "Setting metadata attribute from dialect delimiter to equal specified value: ','\n",
        "Inferring names from the last header line (line 1 ).\n",
        "/mindhive/dicarlolab/u/ardila/src/BehavioralBenchmark/results/XCt_128Images_20msbinroll[130, 150].csv"
       ]
      },
      {
       "output_type": "stream",
       "stream": "stdout",
       "text": [
        "\n",
        "Inferring delimiter to be ','"
       ]
      },
      {
       "output_type": "stream",
       "stream": "stdout",
       "text": [
        "\n",
        "Setting metadata attribute from dialect delimiter to equal specified value: ','\n",
        "Inferring names from the last header line (line 1 ).\n",
        "Inferring delimiter to be ','"
       ]
      },
      {
       "output_type": "stream",
       "stream": "stdout",
       "text": [
        "\n",
        "Setting metadata attribute from dialect delimiter to equal specified value: ','\n",
        "Inferring names from the last header line (line 1 ).\n",
        "/mindhive/dicarlolab/u/ardila/src/BehavioralBenchmark/results/XCt_128Images_20msbinroll[140, 160].csv"
       ]
      },
      {
       "output_type": "stream",
       "stream": "stdout",
       "text": [
        "\n",
        "Inferring delimiter to be ','"
       ]
      },
      {
       "output_type": "stream",
       "stream": "stdout",
       "text": [
        "\n",
        "Setting metadata attribute from dialect delimiter to equal specified value: ','\n",
        "Inferring names from the last header line (line 1 ).\n",
        "Inferring delimiter to be ','"
       ]
      },
      {
       "output_type": "stream",
       "stream": "stdout",
       "text": [
        "\n",
        "Setting metadata attribute from dialect delimiter to equal specified value: ','\n",
        "Inferring names from the last header line (line 1 ).\n",
        "/mindhive/dicarlolab/u/ardila/src/BehavioralBenchmark/results/XCt_128Images_20msbinroll[150, 170].csv"
       ]
      },
      {
       "output_type": "stream",
       "stream": "stdout",
       "text": [
        "\n",
        "Inferring delimiter to be ','"
       ]
      },
      {
       "output_type": "stream",
       "stream": "stdout",
       "text": [
        "\n",
        "Setting metadata attribute from dialect delimiter to equal specified value: ','\n",
        "Inferring names from the last header line (line 1 ).\n",
        "Inferring delimiter to be ','"
       ]
      },
      {
       "output_type": "stream",
       "stream": "stdout",
       "text": [
        "\n",
        "Setting metadata attribute from dialect delimiter to equal specified value: ','\n",
        "Inferring names from the last header line (line 1 ).\n",
        "/mindhive/dicarlolab/u/ardila/src/BehavioralBenchmark/results/XCt_128Images_20msbinroll[160, 180].csv"
       ]
      },
      {
       "output_type": "stream",
       "stream": "stdout",
       "text": [
        "\n",
        "Inferring delimiter to be ','"
       ]
      },
      {
       "output_type": "stream",
       "stream": "stdout",
       "text": [
        "\n",
        "Setting metadata attribute from dialect delimiter to equal specified value: ','\n",
        "Inferring names from the last header line (line 1 ).\n",
        "Inferring delimiter to be ','"
       ]
      },
      {
       "output_type": "stream",
       "stream": "stdout",
       "text": [
        "\n",
        "Setting metadata attribute from dialect delimiter to equal specified value: ','\n",
        "Inferring names from the last header line (line 1 ).\n",
        "/mindhive/dicarlolab/u/ardila/src/BehavioralBenchmark/results/XCt_128Images_20msbinroll[170, 190].csv"
       ]
      },
      {
       "output_type": "stream",
       "stream": "stdout",
       "text": [
        "\n",
        "Inferring delimiter to be ','"
       ]
      },
      {
       "output_type": "stream",
       "stream": "stdout",
       "text": [
        "\n",
        "Setting metadata attribute from dialect delimiter to equal specified value: ','\n",
        "Inferring names from the last header line (line 1 ).\n",
        "Inferring delimiter to be ','"
       ]
      },
      {
       "output_type": "stream",
       "stream": "stdout",
       "text": [
        "\n",
        "Setting metadata attribute from dialect delimiter to equal specified value: ','\n",
        "Inferring names from the last header line (line 1 ).\n",
        "/mindhive/dicarlolab/u/ardila/src/BehavioralBenchmark/results/XCt_128Images_20msbinroll[180, 200].csv"
       ]
      },
      {
       "output_type": "stream",
       "stream": "stdout",
       "text": [
        "\n",
        "Inferring delimiter to be ','"
       ]
      },
      {
       "output_type": "stream",
       "stream": "stdout",
       "text": [
        "\n",
        "Setting metadata attribute from dialect delimiter to equal specified value: ','\n",
        "Inferring names from the last header line (line 1 ).\n",
        "Inferring delimiter to be ','"
       ]
      },
      {
       "output_type": "stream",
       "stream": "stdout",
       "text": [
        "\n",
        "Setting metadata attribute from dialect delimiter to equal specified value: ','\n",
        "Inferring names from the last header line (line 1 ).\n"
       ]
      }
     ],
     "prompt_number": 324
    },
    {
     "cell_type": "markdown",
     "metadata": {},
     "source": [
      "Grab Data from human data database\n",
      "-------"
     ]
    },
    {
     "cell_type": "code",
     "collapsed": false,
     "input": [
      "raw_data = CM.get_data('hvm_dense_smp_v6_2rpw', field='category')\n",
      "#CM.update_collection_stimduration(coll) only need to do it once"
     ],
     "language": "python",
     "metadata": {},
     "outputs": [],
     "prompt_number": 340
    },
    {
     "cell_type": "markdown",
     "metadata": {},
     "source": [
      "Clean up data\n",
      "------"
     ]
    },
    {
     "cell_type": "code",
     "collapsed": false,
     "input": [
      "#Add rep number to raw data, then clean\n",
      "which_rep = {}\n",
      "for worker in np.unique(raw_data['WorkerId']):\n",
      "    which_rep[worker] = {}\n",
      "    for filename in np.unique(raw_data['filename']):\n",
      "        which_rep[worker][filename] = 0\n",
      "rep = np.zeros(raw_data['filename'].shape[0])\n",
      "for i, trial in enumerate(raw_data):\n",
      "    filename = trial['filename']\n",
      "    worker = trial['WorkerId']\n",
      "    rep[i] = which_rep[worker][filename]\n",
      "    which_rep[worker][filename] = which_rep[worker][filename]+1\n",
      "raw_data_with_rep = raw_data.addcols([rep], names=['rep'])\n",
      "\n",
      "#Get rid of everything but first two reps, get rid of learning reps (Images of V3 and V0)\n",
      "data = raw_data_with_rep[raw_data_with_rep['rep']<2]\n",
      "data = data[data['var'] == 'V6']"
     ],
     "language": "python",
     "metadata": {},
     "outputs": [],
     "prompt_number": 341
    },
    {
     "cell_type": "markdown",
     "metadata": {},
     "source": [
      "Reformat data\n",
      "----"
     ]
    },
    {
     "cell_type": "code",
     "collapsed": false,
     "input": [
      "#Reformat to matrix\n",
      "M = [] #images, reps, worker\n",
      "canonical_order = np.unique(data['filename'])\n",
      "workers = np.unique(data['WorkerId'])\n",
      "n_workers = len(workers)\n",
      "for worker in workers:\n",
      "    worker_data = data[data['WorkerId']==worker]\n",
      "    rep0 = worker_data[worker_data['rep']==0]\n",
      "    rep1 = worker_data[worker_data['rep']==1]\n",
      "    c0 = []\n",
      "    c1 = []\n",
      "    for Imid in canonical_order:\n",
      "        c0.append(rep0[rep0['filename'] == Imid]['correct'])\n",
      "        c1.append(rep1[rep1['filename'] == Imid]['correct'])\n",
      "    X = np.column_stack([np.array(c0), np.array(c1)])\n",
      "    X = np.expand_dims(X,2)\n",
      "    M.append(X)\n",
      "    assert set(np.unique(worker_data['filename'])) == set(canonical_order)\n",
      "M = np.concatenate(M,2)\n",
      "assert M.shape == (128, 2, n_workers)\n",
      "print n_workers"
     ],
     "language": "python",
     "metadata": {},
     "outputs": [
      {
       "output_type": "stream",
       "stream": "stdout",
       "text": [
        "17\n"
       ]
      }
     ],
     "prompt_number": 342
    },
    {
     "cell_type": "markdown",
     "metadata": {},
     "source": [
      "Calculate reliability\n",
      "-------"
     ]
    },
    {
     "cell_type": "code",
     "collapsed": false,
     "input": [
      "worker_ics = np.zeros(M.shape[2])\n",
      "worker_reliability = np.zeros(M.shape[2])\n",
      "for worker in range(M.shape[2]):\n",
      "    #Get ic using spearman\n",
      "    worker_ics[worker] = ss.spearmanr(M[:, 0, worker], M[:, 1, worker])[0]\n",
      "    worker_reliability[worker] = sum(M[:, 0, worker]== M[:, 1, worker])/float(M.shape[0])\n",
      "    scatter(worker_ics, worker_reliability)\n",
      "title('Internal consistency of workers')\n",
      "xlabel('Spearman IC')\n",
      "ylabel('Reliability')\n",
      "axvspan(.4, .5, facecolor='g', alpha=.5)\n",
      "axis([.4,1,.5,1])\n"
     ],
     "language": "python",
     "metadata": {},
     "outputs": [
      {
       "metadata": {},
       "output_type": "pyout",
       "prompt_number": 343,
       "text": [
        "[0.4, 1, 0.5, 1]"
       ]
      },
      {
       "metadata": {},
       "output_type": "display_data",
       "png": "[encoded data removed]",
       "text": [
        "<matplotlib.figure.Figure at 0x107d9110>"
       ]
      }
     ],
     "prompt_number": 343
    },
    {
     "cell_type": "markdown",
     "metadata": {},
     "source": [
      "Generate various plots based on data M\n",
      "---"
     ]
    },
    {
     "cell_type": "code",
     "collapsed": false,
     "input": [
      "#def generate_plots(M):\n",
      "\n",
      "#Get pool value\n",
      "\n",
      "pool = np.mean(np.mean(M, 2), 1)\n",
      "plot(sorted(pool))\n",
      "title('Pool image accuracies')\n",
      "ylabel('% correct')\n",
      "xlabel('Image index (sorted by accuracy)')\n",
      "\n"
     ],
     "language": "python",
     "metadata": {},
     "outputs": [
      {
       "metadata": {},
       "output_type": "pyout",
       "prompt_number": 344,
       "text": [
        "<matplotlib.text.Text at 0xddfc590>"
       ]
      },
      {
       "metadata": {},
       "output_type": "display_data",
       "png": "[encoded data removed]",
       "text": [
        "<matplotlib.figure.Figure at 0xd12b8d0>"
       ]
      }
     ],
     "prompt_number": 344
    },
    {
     "cell_type": "code",
     "collapsed": false,
     "input": [
      "#Use pearson metric\n",
      "def metric(x,y):\n",
      "    \n",
      "    #return sum(np.log(y[x==1])) + sum(np.log(1-y[x==0]))\n",
      "    return ss.pearsonr(x,y)[0]\n",
      "\n"
     ],
     "language": "python",
     "metadata": {},
     "outputs": [
      {
       "metadata": {},
       "output_type": "pyout",
       "prompt_number": 334,
       "text": [
        "<matplotlib.legend.Legend at 0xbc70c90>"
       ]
      },
      {
       "metadata": {},
       "output_type": "display_data",
       "png": "[encoded data removed]",
       "text": [
        "<matplotlib.figure.Figure at 0xcf84750>"
       ]
      },
      {
       "metadata": {},
       "output_type": "display_data",
       "png": "[encoded data removed]",
       "text": [
        "<matplotlib.figure.Figure at 0x1022bc50>"
       ]
      },
      {
       "metadata": {},
       "output_type": "display_data",
       "png": "[encoded data removed]",
       "text": [
        "<matplotlib.figure.Figure at 0xcf5ecd0>"
       ]
      },
      {
       "metadata": {},
       "output_type": "display_data",
       "png": "[encoded data removed]",
       "text": [
        "<matplotlib.figure.Figure at 0xddd6310>"
       ]
      },
      {
       "metadata": {},
       "output_type": "display_data",
       "png": "[encoded data removed]",
       "text": [
        "<matplotlib.figure.Figure at 0xddd6190>"
       ]
      }
     ],
     "prompt_number": 334
    },
    {
     "cell_type": "code",
     "collapsed": false,
     "input": [
      "#Calculate consistencies\n",
      "\n",
      "individual_to_pool= []\n",
      "noise_level = []\n",
      "\n",
      "for worker in range(M.shape[2]):\n",
      "    rep0_pool = np.delete(np.squeeze(np.copy(M[:,0,:])), worker, 1).mean(1)\n",
      "    rep1_pool = np.delete(np.squeeze(np.copy(M[:,1,:])), worker, 1).mean(1)\n",
      "    \n",
      "    rep0_trials = M[:, 0, worker]\n",
      "    rep1_trials = M[:, 1, worker]\n",
      "\n",
      "    consistencies = [metric(rep0_trials, pool), metric(rep1_trials, pool)]\n",
      "    noise_level.append(sqrt(ss.spearmanr(rep0_pool, rep1_pool)[0]*ss.spearmanr(rep0_trials, rep1_trials)[0]))\n",
      "\n",
      "    assert rep0_pool.shape == (128,)\n",
      "\n",
      "    individual_to_pool.extend(consistencies)\n",
      "\n",
      "normalized = []\n",
      "for split1, split2, noise in zip(individual_to_pool[::2], individual_to_pool[1::2], noise_level):\n",
      "    normalized.append(split1/noise)\n",
      "    normalized.append(split2/noise)\n",
      "\n",
      "\n",
      "figure()\n",
      "hist(individual_to_pool)\n",
      "title('Unnormalized correlation to pool')\n",
      "figure()\n",
      "hist(normalized)\n",
      "title('Normalized correlation to pool')\n",
      "\n",
      "\n",
      "\n"
     ],
     "language": "python",
     "metadata": {},
     "outputs": [
      {
       "metadata": {},
       "output_type": "pyout",
       "prompt_number": 335,
       "text": [
        "<matplotlib.legend.Legend at 0xddd6e10>"
       ]
      },
      {
       "metadata": {},
       "output_type": "display_data",
       "png": "[encoded data removed]",
       "text": [
        "<matplotlib.figure.Figure at 0xddf6550>"
       ]
      },
      {
       "metadata": {},
       "output_type": "display_data",
       "png": "[encoded data removed]",
       "text": [
        "<matplotlib.figure.Figure at 0xcfb4710>"
       ]
      },
      {
       "metadata": {},
       "output_type": "display_data",
       "png": "[encoded data removed]",
       "text": [
        "<matplotlib.figure.Figure at 0xbc59850>"
       ]
      },
      {
       "metadata": {},
       "output_type": "display_data",
       "png": "[encoded data removed]",
       "text": [
        "<matplotlib.figure.Figure at 0x10205690>"
       ]
      },
      {
       "metadata": {},
       "output_type": "display_data",
       "png": "[encoded data removed]",
       "text": [
        "<matplotlib.figure.Figure at 0x10205190>"
       ]
      }
     ],
     "prompt_number": 335
    },
    {
     "cell_type": "code",
     "collapsed": false,
     "input": [
      "#Plot  unnormalized metric value with noise ceiling for standard time bin\n",
      "\n",
      "standard_time_bin_index = TimeBins_100ms.index([70,170])\n",
      "\n",
      "Model = CMImagLCW_CT_100ms[standard_time_bin_index,:,0]\n",
      "\n",
      "mean_metric_value = mean(individual_to_pool)\n",
      "model_metric_value = metric(Model, pool)\n",
      "error = 1.96*ss.sem(individual_to_pool)\n",
      "\n",
      "noise_ceiling = np.mean(noise_level)\n",
      "noise_ceiling_error = ss.sem(noise_level)\n",
      "noise_ceiling_low = noise_ceiling-noise_ceiling_error\n",
      "noise_ceiling_high = noise_ceiling+noise_ceiling_error\n",
      "\n",
      "\n",
      "\n",
      "figure(figsize = (5, 10))\n",
      "bar([.125, 1.125], [mean_metric_value, model_metric_value], yerr=[error, 0], width=.75)\n",
      "def draw_noise_ceiling():\n",
      "    axhspan(noise_ceiling_low, noise_ceiling_high, facecolor='g', alpha=0.5)\n",
      "    axhspan(noise_ceiling, noise_ceiling, facecolor='g')\n",
      "draw_noise_ceiling()\n",
      "axis([0,2,0,1])\n",
      "\n",
      "title('Unnormalized Correlation to Pool')\n",
      "ylabel('Unnormalized Correlation')\n"
     ],
     "language": "python",
     "metadata": {},
     "outputs": [
      {
       "metadata": {},
       "output_type": "pyout",
       "prompt_number": 336,
       "text": [
        "<matplotlib.legend.Legend at 0xbc6c510>"
       ]
      },
      {
       "metadata": {},
       "output_type": "display_data",
       "png": "[encoded data removed]",
       "text": [
        "<matplotlib.figure.Figure at 0x10742290>"
       ]
      },
      {
       "metadata": {},
       "output_type": "display_data",
       "png": "[encoded data removed]",
       "text": [
        "<matplotlib.figure.Figure at 0xc170f90>"
       ]
      },
      {
       "metadata": {},
       "output_type": "display_data",
       "png": "[encoded data removed]",
       "text": [
        "<matplotlib.figure.Figure at 0xc170dd0>"
       ]
      }
     ],
     "prompt_number": 336
    },
    {
     "cell_type": "code",
     "collapsed": false,
     "input": [
      "#Plot normalized metric value with noise ceiling for standard time bin\n",
      "\n",
      "\n",
      "mean_metric_value_normalized = mean(normalized)\n",
      "error = 1.96*ss.sem(normalized)\n",
      "\n",
      "pool_IC = ss.spearmanr(rep0_pool, rep1_pool)[0]\n",
      "figure(figsize = (5, 10))\n",
      "bar([.125, 1.125], [mean_metric_value_normalized, model_metric_value/pool_IC], yerr=[error, 0], width=.75)\n",
      "axis([0,2,0,1])\n",
      "\n",
      "title('Normalized correlation')\n"
     ],
     "language": "python",
     "metadata": {},
     "outputs": [
      {
       "metadata": {},
       "output_type": "pyout",
       "prompt_number": 337,
       "text": [
        "<matplotlib.text.Text at 0xbc57890>"
       ]
      },
      {
       "metadata": {},
       "output_type": "display_data",
       "png": "[encoded data removed]",
       "text": [
        "<matplotlib.figure.Figure at 0xbc4e7d0>"
       ]
      }
     ],
     "prompt_number": 337
    },
    {
     "cell_type": "code",
     "collapsed": false,
     "input": [
      "# Plot unnormalized 20ms and 100ms time bin consistency for all time bins\n",
      "figure(figsize=(10,10))\n",
      "model_consistencies_20ms = [metric(result, pool) for result in CMImagLCW_CT_20ms[:,:,0]]\n",
      "model_consistencies_100ms = [metric(result, pool) for result in CMImagLCW_CT_100ms[:,:,0]]\n",
      "plot(TimeBinCenters_20ms, model_consistencies_20ms)\n",
      "plot(TimeBinCenters_100ms, model_consistencies_100ms)\n",
      "legend(['20 ms time bins', '100 ms time bins'], loc='best')\n",
      "draw_noise_ceiling()\n",
      "\n",
      "axhspan(mean_metric_value-error/1.96, mean_metric_value+error/1.96, facecolor='b', alpha=0.5)\n",
      "axhspan(mean_metric_value, mean_metric_value, facecolor='b')\n",
      "legend(['20 ms time bins', '100 ms time bins', 'Noise ceiling error', 'Noise ceiling', 'Human +- sem', 'Human'], loc='best')"
     ],
     "language": "python",
     "metadata": {},
     "outputs": [
      {
       "metadata": {},
       "output_type": "pyout",
       "prompt_number": 338,
       "text": [
        "<matplotlib.legend.Legend at 0xbc45690>"
       ]
      },
      {
       "metadata": {},
       "output_type": "display_data",
       "png": "[encoded data removed]",
       "text": [
        "<matplotlib.figure.Figure at 0xbc4e0d0>"
       ]
      }
     ],
     "prompt_number": 338
    },
    {
     "cell_type": "code",
     "collapsed": false,
     "input": [],
     "language": "python",
     "metadata": {},
     "outputs": [
      {
       "metadata": {},
       "output_type": "pyout",
       "prompt_number": 180,
       "text": [
        "<matplotlib.text.Text at 0x10321310>"
       ]
      },
      {
       "metadata": {},
       "output_type": "display_data",
       "png": "[encoded data removed]",
       "text": [
        "<matplotlib.figure.Figure at 0x1032b050>"
       ]
      }
     ],
     "prompt_number": 180
    },
    {
     "cell_type": "code",
     "collapsed": false,
     "input": [
      "TimeBinCenters_20ms"
     ],
     "language": "python",
     "metadata": {},
     "outputs": [
      {
       "metadata": {},
       "output_type": "pyout",
       "prompt_number": 268,
       "text": [
        "[10,\n",
        " -50,\n",
        " -40,\n",
        " -30,\n",
        " -20,\n",
        " -10,\n",
        " 20,\n",
        " 30,\n",
        " 40,\n",
        " 50,\n",
        " 60,\n",
        " 70,\n",
        " 80,\n",
        " 90,\n",
        " 100,\n",
        " 110,\n",
        " 120,\n",
        " 130,\n",
        " 140,\n",
        " 150,\n",
        " 160,\n",
        " 170,\n",
        " 180,\n",
        " 190,\n",
        " 0]"
       ]
      }
     ],
     "prompt_number": 268
    },
    {
     "cell_type": "code",
     "collapsed": false,
     "input": [
      "V2 = dataset.get_features()"
     ],
     "language": "python",
     "metadata": {},
     "outputs": [],
     "prompt_number": 241
    },
    {
     "cell_type": "code",
     "collapsed": false,
     "input": [
      "from bson import ObjectId\n",
      "F = dataset.get_features({u'crop': [0, 0, 256, 256],\n",
      "   u'dtype': u'float32',\n",
      "   u'mode': u'RGB',\n",
      "   u'normalize': False,\n",
      "   u'resize_to': [256, 256]},\n",
      "  ObjectId('534c1ec6c626a8063eae8acd'),\n",
      "  u'fc6')"
     ],
     "language": "python",
     "metadata": {},
     "outputs": [
      {
       "output_type": "stream",
       "stream": "stdout",
       "text": [
        "__________\n",
        "OrderedDict([(u'crop', [0, 0, 256, 256]), (u'dtype', u'float32'), (u'mode', u'RGB'), (u'normalize', False), (u'resize_to', [256, 256])])\n",
        "dldata.stimulus_sets.hvmHvMWithDiscfade\n",
        "OrderedDict([(u'crop', [0, 0, 256, 256]), (u'dtype', u'float32'), (u'mode', u'RGB'), (u'normalize', False), (u'resize_to', [256, 256])])\n",
        "{'model_id': ObjectId('534c1ec6c626a8063eae8acd'), 'dp_params.preproc': OrderedDict([(u'crop', [0, 0, 256, 256]), (u'dtype', u'float32'), (u'mode', u'RGB'), (u'normalize', False), (u'resize_to', [256, 256])]), 'feature_layer': u'fc6'}\n"
       ]
      }
     ],
     "prompt_number": 245
    },
    {
     "cell_type": "code",
     "collapsed": false,
     "input": [
      "F = F[:]"
     ],
     "language": "python",
     "metadata": {},
     "outputs": [],
     "prompt_number": 246
    },
    {
     "cell_type": "code",
     "collapsed": false,
     "input": [
      "np.save('NYU_model_features_hvm', F)"
     ],
     "language": "python",
     "metadata": {},
     "outputs": [],
     "prompt_number": 247
    },
    {
     "cell_type": "code",
     "collapsed": false,
     "input": [
      "pwd"
     ],
     "language": "python",
     "metadata": {},
     "outputs": [
      {
       "metadata": {},
       "output_type": "pyout",
       "prompt_number": 248,
       "text": [
        "u'/mindhive/dicarlolab/u/ardila/src/BehavioralBenchmark'"
       ]
      }
     ],
     "prompt_number": 248
    },
    {
     "cell_type": "code",
     "collapsed": false,
     "input": [
      "CMImagLCW_CT_20ms[0]"
     ],
     "language": "python",
     "metadata": {},
     "outputs": [
      {
       "metadata": {},
       "output_type": "pyout",
       "prompt_number": 281,
       "text": [
        "array([[ 0.],\n",
        "       [ 0.],\n",
        "       [ 0.],\n",
        "       [ 0.],\n",
        "       [ 0.],\n",
        "       [ 0.],\n",
        "       [ 0.],\n",
        "       [ 0.],\n",
        "       [ 0.],\n",
        "       [ 0.],\n",
        "       [ 0.],\n",
        "       [ 0.],\n",
        "       [ 0.],\n",
        "       [ 0.],\n",
        "       [ 0.],\n",
        "       [ 0.],\n",
        "       [ 0.],\n",
        "       [ 0.],\n",
        "       [ 0.],\n",
        "       [ 0.],\n",
        "       [ 0.],\n",
        "       [ 0.],\n",
        "       [ 0.],\n",
        "       [ 0.],\n",
        "       [ 0.],\n",
        "       [ 0.],\n",
        "       [ 0.],\n",
        "       [ 0.],\n",
        "       [ 0.],\n",
        "       [ 0.],\n",
        "       [ 1.],\n",
        "       [ 1.],\n",
        "       [ 1.],\n",
        "       [ 1.],\n",
        "       [ 1.],\n",
        "       [ 0.],\n",
        "       [ 0.],\n",
        "       [ 1.],\n",
        "       [ 1.],\n",
        "       [ 1.],\n",
        "       [ 1.],\n",
        "       [ 1.],\n",
        "       [ 0.],\n",
        "       [ 0.],\n",
        "       [ 1.],\n",
        "       [ 1.],\n",
        "       [ 0.],\n",
        "       [ 1.],\n",
        "       [ 0.],\n",
        "       [ 0.],\n",
        "       [ 0.],\n",
        "       [ 0.],\n",
        "       [ 0.],\n",
        "       [ 0.],\n",
        "       [ 0.],\n",
        "       [ 0.],\n",
        "       [ 1.],\n",
        "       [ 0.],\n",
        "       [ 0.],\n",
        "       [ 0.],\n",
        "       [ 0.],\n",
        "       [ 0.],\n",
        "       [ 0.],\n",
        "       [ 0.],\n",
        "       [ 0.],\n",
        "       [ 0.],\n",
        "       [ 0.],\n",
        "       [ 0.],\n",
        "       [ 0.],\n",
        "       [ 1.],\n",
        "       [ 1.],\n",
        "       [ 0.],\n",
        "       [ 0.],\n",
        "       [ 0.],\n",
        "       [ 0.],\n",
        "       [ 0.],\n",
        "       [ 1.],\n",
        "       [ 0.],\n",
        "       [ 0.],\n",
        "       [ 0.],\n",
        "       [ 0.],\n",
        "       [ 0.],\n",
        "       [ 0.],\n",
        "       [ 1.],\n",
        "       [ 0.],\n",
        "       [ 0.],\n",
        "       [ 0.],\n",
        "       [ 0.],\n",
        "       [ 0.],\n",
        "       [ 0.],\n",
        "       [ 0.],\n",
        "       [ 0.],\n",
        "       [ 1.],\n",
        "       [ 0.],\n",
        "       [ 0.],\n",
        "       [ 1.],\n",
        "       [ 0.],\n",
        "       [ 1.],\n",
        "       [ 1.],\n",
        "       [ 0.],\n",
        "       [ 1.],\n",
        "       [ 1.],\n",
        "       [ 1.],\n",
        "       [ 1.],\n",
        "       [ 1.],\n",
        "       [ 1.],\n",
        "       [ 0.],\n",
        "       [ 0.],\n",
        "       [ 0.],\n",
        "       [ 0.],\n",
        "       [ 0.],\n",
        "       [ 0.],\n",
        "       [ 0.],\n",
        "       [ 0.],\n",
        "       [ 0.],\n",
        "       [ 0.],\n",
        "       [ 0.],\n",
        "       [ 0.],\n",
        "       [ 0.],\n",
        "       [ 0.],\n",
        "       [ 0.],\n",
        "       [ 0.],\n",
        "       [ 0.],\n",
        "       [ 0.],\n",
        "       [ 0.],\n",
        "       [ 0.],\n",
        "       [ 0.],\n",
        "       [ 0.]])"
       ]
      }
     ],
     "prompt_number": 281
    },
    {
     "cell_type": "code",
     "collapsed": false,
     "input": [
      "TimeBinCenters_100ms"
     ],
     "language": "python",
     "metadata": {},
     "outputs": [
      {
       "metadata": {},
       "output_type": "pyout",
       "prompt_number": 284,
       "text": [
        "[-50,\n",
        " -40,\n",
        " -30,\n",
        " -20,\n",
        " -10,\n",
        " 0,\n",
        " 10,\n",
        " 20,\n",
        " 30,\n",
        " 40,\n",
        " 50,\n",
        " 60,\n",
        " 70,\n",
        " 80,\n",
        " 90,\n",
        " 100,\n",
        " 110,\n",
        " 120,\n",
        " 130,\n",
        " 140,\n",
        " 150,\n",
        " 160,\n",
        " 170,\n",
        " 180,\n",
        " 190]"
       ]
      }
     ],
     "prompt_number": 284
    },
    {
     "cell_type": "code",
     "collapsed": false,
     "input": [
      "plot(TimeBinCenters_20ms, model_consistencies_20ms)"
     ],
     "language": "python",
     "metadata": {},
     "outputs": [
      {
       "metadata": {},
       "output_type": "pyout",
       "prompt_number": 289,
       "text": [
        "[<matplotlib.lines.Line2D at 0x107dbcd0>]"
       ]
      },
      {
       "metadata": {},
       "output_type": "display_data",
       "png": "[encoded data removed]",
       "text": [
        "<matplotlib.figure.Figure at 0xd27af50>"
       ]
      }
     ],
     "prompt_number": 289
    },
    {
     "cell_type": "code",
     "collapsed": false,
     "input": [],
     "language": "python",
     "metadata": {},
     "outputs": [
      {
       "metadata": {},
       "output_type": "pyout",
       "prompt_number": 304,
       "text": [
        "[<matplotlib.lines.Line2D at 0x8b325d0>]"
       ]
      },
      {
       "metadata": {},
       "output_type": "display_data",
       "png": "[encoded data removed]",
       "text": [
        "<matplotlib.figure.Figure at 0x8b32210>"
       ]
      }
     ],
     "prompt_number": 304
    },
    {
     "cell_type": "code",
     "collapsed": false,
     "input": [
      "model_consistencies_20ms"
     ],
     "language": "python",
     "metadata": {},
     "outputs": [
      {
       "metadata": {},
       "output_type": "pyout",
       "prompt_number": 292,
       "text": [
        "[0.0097751338748661987,\n",
        " 0.03912210889703361,\n",
        " 0.0075591604189894262,\n",
        " 0.00027245566510623355,\n",
        " 0.039233615775297631,\n",
        " 0.070186438773180607,\n",
        " 0.016347339906374013,\n",
        " 0.091834810350716653,\n",
        " 0.051610819412410559,\n",
        " 0.18766064922867526,\n",
        " 0.30797262369082901,\n",
        " 0.38763300731814704,\n",
        " 0.29775988956712823,\n",
        " 0.38203003856042905,\n",
        " 0.33300638670622967,\n",
        " 0.40064817587035695,\n",
        " 0.34027361049692195,\n",
        " 0.38414561192456637,\n",
        " 0.41118250669414808,\n",
        " 0.3437691202415436,\n",
        " 0.43755892131663021,\n",
        " 0.46481432170269993,\n",
        " 0.4307144205337935,\n",
        " 0.41157656076099031,\n",
        " 0.31202235447633153]"
       ]
      }
     ],
     "prompt_number": 292
    },
    {
     "cell_type": "code",
     "collapsed": false,
     "input": [],
     "language": "python",
     "metadata": {},
     "outputs": []
    }
   ],
   "metadata": {}
  }
 ]
}